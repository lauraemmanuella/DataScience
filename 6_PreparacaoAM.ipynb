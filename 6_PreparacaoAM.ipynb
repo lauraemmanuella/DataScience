{
  "nbformat": 4,
  "nbformat_minor": 0,
  "metadata": {
    "colab": {
      "name": "6-PreparacaoAM.ipynb",
      "provenance": [],
      "collapsed_sections": [],
      "toc_visible": true,
      "authorship_tag": "ABX9TyPYvozSKrXCIPGUuneTLoTa",
      "include_colab_link": true
    },
    "kernelspec": {
      "display_name": "Python 3",
      "name": "python3"
    },
    "language_info": {
      "name": "python"
    }
  },
  "cells": [
    {
      "cell_type": "markdown",
      "metadata": {
        "id": "view-in-github",
        "colab_type": "text"
      },
      "source": [
        "<a href=\"https://colab.research.google.com/github/lauraemmanuella/DataScience/blob/main/6_PreparacaoAM.ipynb\" target=\"_parent\"><img src=\"https://colab.research.google.com/assets/colab-badge.svg\" alt=\"Open In Colab\"/></a>"
      ]
    },
    {
      "cell_type": "markdown",
      "metadata": {
        "id": "90sg5Uc3l4ia"
      },
      "source": [
        "**Notebook referente à aula 2-Preparação dos dados na disciplina Aprendizado de Máquina**"
      ]
    },
    {
      "cell_type": "code",
      "metadata": {
        "colab": {
          "base_uri": "https://localhost:8080/"
        },
        "id": "KZS-yhpGVsnJ",
        "outputId": "b819c0bf-7e64-4131-8233-fc01a63dbacf"
      },
      "source": [
        "#monte o drive caso precise usar/salvar arquivos do seu drive\n",
        "from google.colab import drive\n",
        "drive.mount('/content/drive')"
      ],
      "execution_count": null,
      "outputs": [
        {
          "output_type": "stream",
          "text": [
            "Mounted at /content/drive\n"
          ],
          "name": "stdout"
        }
      ]
    },
    {
      "cell_type": "code",
      "metadata": {
        "colab": {
          "base_uri": "https://localhost:8080/"
        },
        "id": "Dd_x2yLsVw0x",
        "outputId": "2e2cded0-9192-4b5b-e67b-e5cc0a2a059b"
      },
      "source": [
        "#mude o ponto de execução para outro diretório, caso deseje\n",
        "%cd /content/drive/MyDrive/Colab Notebooks/DataScience"
      ],
      "execution_count": null,
      "outputs": [
        {
          "output_type": "stream",
          "text": [
            "/content/drive/MyDrive/Colab Notebooks/AprendizadoMaquina\n"
          ],
          "name": "stdout"
        }
      ]
    },
    {
      "cell_type": "markdown",
      "metadata": {
        "id": "NY9UfS1AVxVD"
      },
      "source": [
        "# Preparação dos dados para tarefas de AM\n",
        "\n",
        "\n",
        "[Dataset retirado daqui](https://github.com/CaiqueCoelho/Preprocessing-Dataset-Template)\n",
        "\n"
      ]
    },
    {
      "cell_type": "markdown",
      "metadata": {
        "id": "yqaLlpr2Snu4"
      },
      "source": [
        "## 1) Visão geral do dataset"
      ]
    },
    {
      "cell_type": "code",
      "metadata": {
        "id": "x37jE7GL5Hxj"
      },
      "source": [
        "import pandas as pd"
      ],
      "execution_count": 1,
      "outputs": []
    },
    {
      "cell_type": "code",
      "metadata": {
        "id": "voMrUNoO5KJI"
      },
      "source": [
        "#OU coloca direto o endereço do csv (nesse caso, nem precisaria montar o drive)\n",
        "df = pd.read_csv('https://raw.githubusercontent.com/CaiqueCoelho/Preprocessing-Dataset-Template/master/fake_data_2.csv')"
      ],
      "execution_count": 2,
      "outputs": []
    },
    {
      "cell_type": "code",
      "metadata": {
        "colab": {
          "base_uri": "https://localhost:8080/",
          "height": 488
        },
        "id": "46MHY05UdeMX",
        "outputId": "5e02c15b-e837-49a2-dae8-888f07100680"
      },
      "source": [
        "#visão do dataset\n",
        "df"
      ],
      "execution_count": null,
      "outputs": [
        {
          "output_type": "execute_result",
          "data": {
            "text/html": [
              "\n",
              "  <div id=\"df-507da079-5679-48f5-aa39-38c377b1ec61\">\n",
              "    <div class=\"colab-df-container\">\n",
              "      <div>\n",
              "<style scoped>\n",
              "    .dataframe tbody tr th:only-of-type {\n",
              "        vertical-align: middle;\n",
              "    }\n",
              "\n",
              "    .dataframe tbody tr th {\n",
              "        vertical-align: top;\n",
              "    }\n",
              "\n",
              "    .dataframe thead th {\n",
              "        text-align: right;\n",
              "    }\n",
              "</style>\n",
              "<table border=\"1\" class=\"dataframe\">\n",
              "  <thead>\n",
              "    <tr style=\"text-align: right;\">\n",
              "      <th></th>\n",
              "      <th>cargo</th>\n",
              "      <th>idade</th>\n",
              "      <th>salario</th>\n",
              "      <th>bonus</th>\n",
              "      <th>sócio</th>\n",
              "    </tr>\n",
              "  </thead>\n",
              "  <tbody>\n",
              "    <tr>\n",
              "      <th>0</th>\n",
              "      <td>Diretor</td>\n",
              "      <td>45</td>\n",
              "      <td>24000.0</td>\n",
              "      <td>10000.0</td>\n",
              "      <td>sim</td>\n",
              "    </tr>\n",
              "    <tr>\n",
              "      <th>1</th>\n",
              "      <td>Analista</td>\n",
              "      <td>22</td>\n",
              "      <td>8000.0</td>\n",
              "      <td>2000.0</td>\n",
              "      <td>não</td>\n",
              "    </tr>\n",
              "    <tr>\n",
              "      <th>2</th>\n",
              "      <td>Programador</td>\n",
              "      <td>30</td>\n",
              "      <td>NaN</td>\n",
              "      <td>1000.0</td>\n",
              "      <td>não</td>\n",
              "    </tr>\n",
              "    <tr>\n",
              "      <th>3</th>\n",
              "      <td>Gerente</td>\n",
              "      <td>24</td>\n",
              "      <td>15100.0</td>\n",
              "      <td>NaN</td>\n",
              "      <td>não</td>\n",
              "    </tr>\n",
              "    <tr>\n",
              "      <th>4</th>\n",
              "      <td>Gerente</td>\n",
              "      <td>30</td>\n",
              "      <td>35000.0</td>\n",
              "      <td>6000.0</td>\n",
              "      <td>sim</td>\n",
              "    </tr>\n",
              "    <tr>\n",
              "      <th>5</th>\n",
              "      <td>Programador</td>\n",
              "      <td>22</td>\n",
              "      <td>5300.0</td>\n",
              "      <td>2000.0</td>\n",
              "      <td>não</td>\n",
              "    </tr>\n",
              "    <tr>\n",
              "      <th>6</th>\n",
              "      <td>Analista</td>\n",
              "      <td>20</td>\n",
              "      <td>NaN</td>\n",
              "      <td>1200.0</td>\n",
              "      <td>não</td>\n",
              "    </tr>\n",
              "    <tr>\n",
              "      <th>7</th>\n",
              "      <td>Diretor</td>\n",
              "      <td>50</td>\n",
              "      <td>18000.0</td>\n",
              "      <td>8000.0</td>\n",
              "      <td>sim</td>\n",
              "    </tr>\n",
              "    <tr>\n",
              "      <th>8</th>\n",
              "      <td>Fundador</td>\n",
              "      <td>65</td>\n",
              "      <td>38000.0</td>\n",
              "      <td>28000.0</td>\n",
              "      <td>sim</td>\n",
              "    </tr>\n",
              "    <tr>\n",
              "      <th>9</th>\n",
              "      <td>Analista</td>\n",
              "      <td>32</td>\n",
              "      <td>7300.0</td>\n",
              "      <td>4000.0</td>\n",
              "      <td>não</td>\n",
              "    </tr>\n",
              "    <tr>\n",
              "      <th>10</th>\n",
              "      <td>Programador</td>\n",
              "      <td>35</td>\n",
              "      <td>2344.0</td>\n",
              "      <td>NaN</td>\n",
              "      <td>não</td>\n",
              "    </tr>\n",
              "    <tr>\n",
              "      <th>11</th>\n",
              "      <td>Programador</td>\n",
              "      <td>28</td>\n",
              "      <td>4500.0</td>\n",
              "      <td>2200.0</td>\n",
              "      <td>não</td>\n",
              "    </tr>\n",
              "    <tr>\n",
              "      <th>12</th>\n",
              "      <td>Fundador</td>\n",
              "      <td>28</td>\n",
              "      <td>30000.0</td>\n",
              "      <td>12000.0</td>\n",
              "      <td>sim</td>\n",
              "    </tr>\n",
              "    <tr>\n",
              "      <th>13</th>\n",
              "      <td>Programador</td>\n",
              "      <td>30</td>\n",
              "      <td>14000.0</td>\n",
              "      <td>10000.0</td>\n",
              "      <td>sim</td>\n",
              "    </tr>\n",
              "  </tbody>\n",
              "</table>\n",
              "</div>\n",
              "      <button class=\"colab-df-convert\" onclick=\"convertToInteractive('df-507da079-5679-48f5-aa39-38c377b1ec61')\"\n",
              "              title=\"Convert this dataframe to an interactive table.\"\n",
              "              style=\"display:none;\">\n",
              "        \n",
              "  <svg xmlns=\"http://www.w3.org/2000/svg\" height=\"24px\"viewBox=\"0 0 24 24\"\n",
              "       width=\"24px\">\n",
              "    <path d=\"M0 0h24v24H0V0z\" fill=\"none\"/>\n",
              "    <path d=\"M18.56 5.44l.94 2.06.94-2.06 2.06-.94-2.06-.94-.94-2.06-.94 2.06-2.06.94zm-11 1L8.5 8.5l.94-2.06 2.06-.94-2.06-.94L8.5 2.5l-.94 2.06-2.06.94zm10 10l.94 2.06.94-2.06 2.06-.94-2.06-.94-.94-2.06-.94 2.06-2.06.94z\"/><path d=\"M17.41 7.96l-1.37-1.37c-.4-.4-.92-.59-1.43-.59-.52 0-1.04.2-1.43.59L10.3 9.45l-7.72 7.72c-.78.78-.78 2.05 0 2.83L4 21.41c.39.39.9.59 1.41.59.51 0 1.02-.2 1.41-.59l7.78-7.78 2.81-2.81c.8-.78.8-2.07 0-2.86zM5.41 20L4 18.59l7.72-7.72 1.47 1.35L5.41 20z\"/>\n",
              "  </svg>\n",
              "      </button>\n",
              "      \n",
              "  <style>\n",
              "    .colab-df-container {\n",
              "      display:flex;\n",
              "      flex-wrap:wrap;\n",
              "      gap: 12px;\n",
              "    }\n",
              "\n",
              "    .colab-df-convert {\n",
              "      background-color: #E8F0FE;\n",
              "      border: none;\n",
              "      border-radius: 50%;\n",
              "      cursor: pointer;\n",
              "      display: none;\n",
              "      fill: #1967D2;\n",
              "      height: 32px;\n",
              "      padding: 0 0 0 0;\n",
              "      width: 32px;\n",
              "    }\n",
              "\n",
              "    .colab-df-convert:hover {\n",
              "      background-color: #E2EBFA;\n",
              "      box-shadow: 0px 1px 2px rgba(60, 64, 67, 0.3), 0px 1px 3px 1px rgba(60, 64, 67, 0.15);\n",
              "      fill: #174EA6;\n",
              "    }\n",
              "\n",
              "    [theme=dark] .colab-df-convert {\n",
              "      background-color: #3B4455;\n",
              "      fill: #D2E3FC;\n",
              "    }\n",
              "\n",
              "    [theme=dark] .colab-df-convert:hover {\n",
              "      background-color: #434B5C;\n",
              "      box-shadow: 0px 1px 3px 1px rgba(0, 0, 0, 0.15);\n",
              "      filter: drop-shadow(0px 1px 2px rgba(0, 0, 0, 0.3));\n",
              "      fill: #FFFFFF;\n",
              "    }\n",
              "  </style>\n",
              "\n",
              "      <script>\n",
              "        const buttonEl =\n",
              "          document.querySelector('#df-507da079-5679-48f5-aa39-38c377b1ec61 button.colab-df-convert');\n",
              "        buttonEl.style.display =\n",
              "          google.colab.kernel.accessAllowed ? 'block' : 'none';\n",
              "\n",
              "        async function convertToInteractive(key) {\n",
              "          const element = document.querySelector('#df-507da079-5679-48f5-aa39-38c377b1ec61');\n",
              "          const dataTable =\n",
              "            await google.colab.kernel.invokeFunction('convertToInteractive',\n",
              "                                                     [key], {});\n",
              "          if (!dataTable) return;\n",
              "\n",
              "          const docLinkHtml = 'Like what you see? Visit the ' +\n",
              "            '<a target=\"_blank\" href=https://colab.research.google.com/notebooks/data_table.ipynb>data table notebook</a>'\n",
              "            + ' to learn more about interactive tables.';\n",
              "          element.innerHTML = '';\n",
              "          dataTable['output_type'] = 'display_data';\n",
              "          await google.colab.output.renderOutput(dataTable, element);\n",
              "          const docLink = document.createElement('div');\n",
              "          docLink.innerHTML = docLinkHtml;\n",
              "          element.appendChild(docLink);\n",
              "        }\n",
              "      </script>\n",
              "    </div>\n",
              "  </div>\n",
              "  "
            ],
            "text/plain": [
              "          cargo  idade  salario    bonus sócio\n",
              "0       Diretor     45  24000.0  10000.0   sim\n",
              "1      Analista     22   8000.0   2000.0   não\n",
              "2   Programador     30      NaN   1000.0   não\n",
              "3       Gerente     24  15100.0      NaN   não\n",
              "4       Gerente     30  35000.0   6000.0   sim\n",
              "5   Programador     22   5300.0   2000.0   não\n",
              "6      Analista     20      NaN   1200.0   não\n",
              "7       Diretor     50  18000.0   8000.0   sim\n",
              "8      Fundador     65  38000.0  28000.0   sim\n",
              "9      Analista     32   7300.0   4000.0   não\n",
              "10  Programador     35   2344.0      NaN   não\n",
              "11  Programador     28   4500.0   2200.0   não\n",
              "12     Fundador     28  30000.0  12000.0   sim\n",
              "13  Programador     30  14000.0  10000.0   sim"
            ]
          },
          "metadata": {},
          "execution_count": 3
        }
      ]
    },
    {
      "cell_type": "markdown",
      "metadata": {
        "id": "VKz0PNuUQw8P"
      },
      "source": [
        "## 2) Dados faltantes\n",
        "\n",
        "Sugestão de leitura: https://ealexbarros.medium.com/principais-tipos-de-dados-faltantes-missing-em-um-dataset-49aa35cf18c8\n",
        "\n",
        "**Estratégias:**\n",
        "\n",
        "1.   **Remoção das colunas**: Solução menos recomendada. Somente deverá ser utilizada quando a variável não exercer influência no resultado procurado ou quando a maior parte das amostras não tiver o valor dessa coluna.\n",
        "2.   **Remoção das linhas**: Solução melhor, porém ainda não é a ideal para um dataset com poucos exemplos.\n",
        "3.   **Preenchimento com um valor definido**: Pode-se preencher os dados faltantes com o valor que melhor convier para o problema. Para ser usado adequadamente, precisa-se saber que valor é esse.\n",
        "4.   **Preenchimento com a média ou moda**: Solução mais adequada na maioria dos casos. "
      ]
    },
    {
      "cell_type": "code",
      "metadata": {
        "colab": {
          "base_uri": "https://localhost:8080/"
        },
        "id": "u8WdFWnGQxRA",
        "outputId": "699b1806-aa0a-418b-812c-3333a6c88ed3"
      },
      "source": [
        "#Verifica se tem NaN\n",
        "hasNan = df.isnull().sum()\n",
        "print(hasNan)"
      ],
      "execution_count": null,
      "outputs": [
        {
          "output_type": "stream",
          "text": [
            "cargo      0\n",
            "idade      0\n",
            "salario    2\n",
            "bonus      2\n",
            "sócio      0\n",
            "dtype: int64\n"
          ],
          "name": "stdout"
        }
      ]
    },
    {
      "cell_type": "markdown",
      "metadata": {
        "id": "Lh1sWB1Wvjpp"
      },
      "source": [
        "[Documentação dropna](https://pandas.pydata.org/pandas-docs/stable/reference/api/pandas.DataFrame.dropna.html)"
      ]
    },
    {
      "cell_type": "code",
      "metadata": {
        "colab": {
          "base_uri": "https://localhost:8080/"
        },
        "id": "4EipTFBwcdg1",
        "outputId": "ffd40499-e9e7-4b11-d882-fd06a5e1b0f3"
      },
      "source": [
        "#1. Remoção das colunas\n",
        "\n",
        "dfTeste = df.copy() #fazendo uma cópia apenas para testar o comando (não será aplicado ao df)\n",
        "\n",
        "dfTeste.dropna(axis=1, inplace=True) #axis = 1 indica coluna; inplace True executa a operação de fato, não apenas no retorno dessa linha\n",
        "\n",
        "print(dfTeste)\n",
        "#Observe que nesse exemplo ficamos sem as colunas salário e bônus"
      ],
      "execution_count": null,
      "outputs": [
        {
          "output_type": "stream",
          "text": [
            "          cargo  idade sócio\n",
            "0       Diretor     45   sim\n",
            "1      Analista     22   não\n",
            "2   Programador     30   não\n",
            "3       Gerente     24   não\n",
            "4       Gerente     30   sim\n",
            "5   Programador     22   não\n",
            "6      Analista     20   não\n",
            "7       Diretor     50   sim\n",
            "8      Fundador     65   sim\n",
            "9      Analista     32   não\n",
            "10  Programador     35   não\n",
            "11  Programador     28   não\n",
            "12     Fundador     28   sim\n",
            "13  Programador     30   sim\n"
          ],
          "name": "stdout"
        }
      ]
    },
    {
      "cell_type": "code",
      "metadata": {
        "colab": {
          "base_uri": "https://localhost:8080/"
        },
        "id": "3p5sYVVOtV8B",
        "outputId": "945708ed-3a03-4fbe-aa34-fa1dfa662259"
      },
      "source": [
        "#2. Remoção das linhas\n",
        "\n",
        "dfTeste = df.copy() #fazendo uma cópia apenas para testar o comando (não será aplicado ao df)\n",
        "\n",
        "dfTeste.dropna(inplace=True) #o default do dropna é axis = 0 (linhas)\n",
        "\n",
        "print(dfTeste)\n",
        "#Observe que nesse exemplo, ficamos com menos exemplos"
      ],
      "execution_count": null,
      "outputs": [
        {
          "output_type": "stream",
          "text": [
            "          cargo  idade  salario    bonus sócio\n",
            "0       Diretor     45  24000.0  10000.0   sim\n",
            "1      Analista     22   8000.0   2000.0   não\n",
            "4       Gerente     30  35000.0   6000.0   sim\n",
            "5   Programador     22   5300.0   2000.0   não\n",
            "7       Diretor     50  18000.0   8000.0   sim\n",
            "8      Fundador     65  38000.0  28000.0   sim\n",
            "9      Analista     32   7300.0   4000.0   não\n",
            "11  Programador     28   4500.0   2200.0   não\n",
            "12     Fundador     28  30000.0  12000.0   sim\n",
            "13  Programador     30  14000.0  10000.0   sim\n"
          ],
          "name": "stdout"
        }
      ]
    },
    {
      "cell_type": "code",
      "metadata": {
        "colab": {
          "base_uri": "https://localhost:8080/"
        },
        "id": "bQi29xb2wvRw",
        "outputId": "5f8287e3-a230-4639-8f6f-5a27b23f43cb"
      },
      "source": [
        "#3. Preenchimento com um valor definido\n",
        "\n",
        "dfTeste = df.copy() #fazendo uma cópia apenas para testar o comando (não será aplicado ao df)\n",
        "\n",
        "dfTeste.fillna(0, inplace=True) #Preencher todos os valores faltantes por zero (não é uma boa estratégia)\n",
        "\n",
        "print(dfTeste)"
      ],
      "execution_count": null,
      "outputs": [
        {
          "output_type": "stream",
          "text": [
            "          cargo  idade  salario    bonus sócio\n",
            "0       Diretor     45  24000.0  10000.0   sim\n",
            "1      Analista     22   8000.0   2000.0   não\n",
            "2   Programador     30      0.0   1000.0   não\n",
            "3       Gerente     24  15100.0      0.0   não\n",
            "4       Gerente     30  35000.0   6000.0   sim\n",
            "5   Programador     22   5300.0   2000.0   não\n",
            "6      Analista     20      0.0   1200.0   não\n",
            "7       Diretor     50  18000.0   8000.0   sim\n",
            "8      Fundador     65  38000.0  28000.0   sim\n",
            "9      Analista     32   7300.0   4000.0   não\n",
            "10  Programador     35   2344.0      0.0   não\n",
            "11  Programador     28   4500.0   2200.0   não\n",
            "12     Fundador     28  30000.0  12000.0   sim\n",
            "13  Programador     30  14000.0  10000.0   sim\n"
          ],
          "name": "stdout"
        }
      ]
    },
    {
      "cell_type": "code",
      "metadata": {
        "id": "O_A4rt8lxsAo",
        "colab": {
          "base_uri": "https://localhost:8080/"
        },
        "outputId": "faeb5919-e354-4c95-9b08-301cc7b00c4b"
      },
      "source": [
        "#4. Preencher com a média \n",
        "\n",
        "from sklearn.impute import SimpleImputer\n",
        "import numpy as np\n",
        "\n",
        "impute_mean = SimpleImputer(missing_values = np.nan, strategy='mean')\n",
        "\n",
        "df[['salario', 'bonus']] = impute_mean.fit_transform(df[['salario', 'bonus']]) \n",
        "\n",
        "print(df)"
      ],
      "execution_count": null,
      "outputs": [
        {
          "output_type": "stream",
          "text": [
            "          cargo  idade       salario    bonus sócio\n",
            "0       Diretor     45  24000.000000  10000.0   sim\n",
            "1      Analista     22   8000.000000   2000.0   não\n",
            "2   Programador     30  16795.333333   1000.0   não\n",
            "3       Gerente     24  15100.000000   7200.0   não\n",
            "4       Gerente     30  35000.000000   6000.0   sim\n",
            "5   Programador     22   5300.000000   2000.0   não\n",
            "6      Analista     20  16795.333333   1200.0   não\n",
            "7       Diretor     50  18000.000000   8000.0   sim\n",
            "8      Fundador     65  38000.000000  28000.0   sim\n",
            "9      Analista     32   7300.000000   4000.0   não\n",
            "10  Programador     35   2344.000000   7200.0   não\n",
            "11  Programador     28   4500.000000   2200.0   não\n",
            "12     Fundador     28  30000.000000  12000.0   sim\n",
            "13  Programador     30  14000.000000  10000.0   sim\n"
          ],
          "name": "stdout"
        }
      ]
    },
    {
      "cell_type": "markdown",
      "metadata": {
        "id": "K2HjA81P2gE2"
      },
      "source": [
        "**Observação**\n",
        "\n",
        "A classe [SimpleImputer](https://scikit-learn.org/stable/modules/generated/sklearn.impute.SimpleImputer.html) possui as estratégias: Média, Mediana, Mais frequente ou Valor constante"
      ]
    },
    {
      "cell_type": "markdown",
      "metadata": {
        "id": "pJjuMBSAR2uC"
      },
      "source": [
        "## 3) Outliers\n",
        "\n",
        "https://lucasmbribeiro.medium.com/boxplot-1c8d2e0cb158\n",
        "\n",
        "\n",
        "https://towardsdatascience.com/why-1-5-in-iqr-method-of-outlier-detection-5d07fdc82097\n",
        "\n",
        "\n",
        "https://pt.khanacademy.org/math/statistics-probability/summarizing-quantitative-data/box-whisker-plots/a/identifying-outliers-iqr-rule\n"
      ]
    },
    {
      "cell_type": "code",
      "metadata": {
        "colab": {
          "base_uri": "https://localhost:8080/",
          "height": 282
        },
        "id": "issCazXLtQiN",
        "outputId": "c58b1d26-2b18-45a7-8c72-f8c04aff3add"
      },
      "source": [
        "df['idade'].plot(kind = 'box')"
      ],
      "execution_count": null,
      "outputs": [
        {
          "output_type": "execute_result",
          "data": {
            "text/plain": [
              "<matplotlib.axes._subplots.AxesSubplot at 0x7f7865b50150>"
            ]
          },
          "metadata": {
            "tags": []
          },
          "execution_count": 32
        },
        {
          "output_type": "display_data",
          "data": {
            "image/png": "[encoded data removed]",
            "text/plain": [
              "<Figure size 432x288 with 1 Axes>"
            ]
          },
          "metadata": {
            "tags": [],
            "needs_background": "light"
          }
        }
      ]
    },
    {
      "cell_type": "code",
      "metadata": {
        "colab": {
          "base_uri": "https://localhost:8080/",
          "height": 282
        },
        "id": "GnqPyOLLtaOz",
        "outputId": "bde6bdc7-770e-4029-f9d0-d095da69f247"
      },
      "source": [
        "df['salario'].plot(kind = 'box')"
      ],
      "execution_count": null,
      "outputs": [
        {
          "output_type": "execute_result",
          "data": {
            "text/plain": [
              "<matplotlib.axes._subplots.AxesSubplot at 0x7f0a6aa29750>"
            ]
          },
          "metadata": {
            "tags": []
          },
          "execution_count": 91
        },
        {
          "output_type": "display_data",
          "data": {
            "image/png": "[encoded data removed]",
            "text/plain": [
              "<Figure size 432x288 with 1 Axes>"
            ]
          },
          "metadata": {
            "tags": []
          }
        }
      ]
    },
    {
      "cell_type": "code",
      "metadata": {
        "colab": {
          "base_uri": "https://localhost:8080/",
          "height": 282
        },
        "id": "JlG_LzTete6m",
        "outputId": "dfa966fb-727c-4937-d46a-d59f9a64252a"
      },
      "source": [
        "df['bonus'].plot(kind = 'box')"
      ],
      "execution_count": null,
      "outputs": [
        {
          "output_type": "execute_result",
          "data": {
            "text/plain": [
              "<matplotlib.axes._subplots.AxesSubplot at 0x7f0a6aa1ca50>"
            ]
          },
          "metadata": {
            "tags": []
          },
          "execution_count": 92
        },
        {
          "output_type": "display_data",
          "data": {
            "image/png": "[encoded data removed]",
            "text/plain": [
              "<Figure size 432x288 with 1 Axes>"
            ]
          },
          "metadata": {
            "tags": []
          }
        }
      ]
    },
    {
      "cell_type": "code",
      "metadata": {
        "colab": {
          "base_uri": "https://localhost:8080/"
        },
        "id": "I5ETcehB_TIG",
        "outputId": "3d2176bf-becf-4388-ef77-403744a1219b"
      },
      "source": [
        "#trata outlier pela regra do 1.5*IQR (variação interquartil)\n",
        "\n",
        "dfTeste = df.copy() #fazendo uma cópia apenas para testar o comando (não será aplicado ao df)\n",
        "\n",
        "q1 = dfTeste['idade'].quantile(0.25)\n",
        "q3 = dfTeste['idade'].quantile(0.75)\n",
        "iqr = q3 - q1\n",
        "lLim = q1 - 1.5 * iqr \n",
        "hLim = q3 + 1.5 * iqr\n",
        "dfTeste.loc[dfTeste['idade'] < lLim, 'idade'] = lLim #substitui os valores abaixo do limite inferior pelo limite inferior\n",
        "dfTeste.loc[dfTeste['idade'] > hLim, 'idade'] = hLim #substitui os valores acima do limite superior pelo limite superior\n",
        "\n",
        "print(dfTeste)      "
      ],
      "execution_count": null,
      "outputs": [
        {
          "output_type": "stream",
          "text": [
            "          cargo   idade       salario    bonus sócio\n",
            "0       Diretor  45.000  24000.000000  10000.0   sim\n",
            "1      Analista  22.000   8000.000000   2000.0   não\n",
            "2   Programador  30.000  16795.333333   1000.0   não\n",
            "3       Gerente  24.000  15100.000000   7200.0   não\n",
            "4       Gerente  30.000  35000.000000   6000.0   sim\n",
            "5   Programador  22.000   5300.000000   2000.0   não\n",
            "6      Analista  20.000  16795.333333   1200.0   não\n",
            "7       Diretor  48.125  18000.000000   8000.0   sim\n",
            "8      Fundador  48.125  38000.000000  28000.0   sim\n",
            "9      Analista  32.000   7300.000000   4000.0   não\n",
            "10  Programador  35.000   2344.000000   7200.0   não\n",
            "11  Programador  28.000   4500.000000   2200.0   não\n",
            "12     Fundador  28.000  30000.000000  12000.0   sim\n",
            "13  Programador  30.000  14000.000000  10000.0   sim\n"
          ],
          "name": "stdout"
        }
      ]
    },
    {
      "cell_type": "code",
      "metadata": {
        "colab": {
          "base_uri": "https://localhost:8080/",
          "height": 282
        },
        "id": "ONEdFH_2-Kyr",
        "outputId": "d3203a79-7772-43e8-e388-1ccfd702d6f2"
      },
      "source": [
        "dfTeste['idade'].plot(kind = 'box')"
      ],
      "execution_count": null,
      "outputs": [
        {
          "output_type": "execute_result",
          "data": {
            "text/plain": [
              "<matplotlib.axes._subplots.AxesSubplot at 0x7f7865b18510>"
            ]
          },
          "metadata": {
            "tags": []
          },
          "execution_count": 34
        },
        {
          "output_type": "display_data",
          "data": {
            "image/png": "[encoded data removed]",
            "text/plain": [
              "<Figure size 432x288 with 1 Axes>"
            ]
          },
          "metadata": {
            "tags": [],
            "needs_background": "light"
          }
        }
      ]
    },
    {
      "cell_type": "markdown",
      "metadata": {
        "id": "FL5xp0xCSAiw"
      },
      "source": [
        "## 4) Mudança de escala\n",
        "\n",
        "As duas técnicas mais populares para reescalar dados numéricos são **normalização por reescala** e **normalização por padronização**. \n",
        "\n",
        "* A **normalização por reescala** dimensiona cada variável de entrada  separadamente para o intervalo 0:1 (ou -1:1 quando tem valores negativos). \n",
        "\n",
        "* A **normalização por padronização** dimensiona cada variável de entrada separadamente para ter uma média 0 e um desvio padrão 1.\n",
        "\n",
        "\n",
        "Outros escaladores: \n",
        "https://scikit-learn.org/stable/auto_examples/preprocessing/plot_all_scaling.html\n"
      ]
    },
    {
      "cell_type": "code",
      "metadata": {
        "colab": {
          "base_uri": "https://localhost:8080/",
          "height": 282
        },
        "id": "2bPbO1tzrPdt",
        "outputId": "f1f61e46-e2cc-47f0-d83d-a44a1d25166b"
      },
      "source": [
        "#Observe por esse gráfico, a diferença de escala entre as variáveis numéricas\n",
        "#Para alguns algoritmos, isso faz com que ele praticamente desconsidere aqueles com escala menor\n",
        "df.plot(kind = 'box') "
      ],
      "execution_count": null,
      "outputs": [
        {
          "output_type": "execute_result",
          "data": {
            "text/plain": [
              "<matplotlib.axes._subplots.AxesSubplot at 0x7fbd2fd72690>"
            ]
          },
          "metadata": {
            "tags": []
          },
          "execution_count": 9
        },
        {
          "output_type": "display_data",
          "data": {
            "image/png": "[encoded data removed]",
            "text/plain": [
              "<Figure size 432x288 with 1 Axes>"
            ]
          },
          "metadata": {
            "tags": []
          }
        }
      ]
    },
    {
      "cell_type": "code",
      "metadata": {
        "colab": {
          "base_uri": "https://localhost:8080/",
          "height": 567
        },
        "id": "KeYIsrVlnr1k",
        "outputId": "38e63b21-3fe4-4cc2-f6c9-e1586c3f225b"
      },
      "source": [
        "import seaborn as sb\n",
        "\n",
        "sb.pairplot(df, kind='kde')"
      ],
      "execution_count": null,
      "outputs": [
        {
          "output_type": "execute_result",
          "data": {
            "text/plain": [
              "<seaborn.axisgrid.PairGrid at 0x7f7872ffdf10>"
            ]
          },
          "metadata": {
            "tags": []
          },
          "execution_count": 20
        },
        {
          "output_type": "display_data",
          "data": {
            "image/png": "[encoded data removed]",
            "text/plain": [
              "<Figure size 540x540 with 12 Axes>"
            ]
          },
          "metadata": {
            "tags": [],
            "needs_background": "light"
          }
        }
      ]
    },
    {
      "cell_type": "markdown",
      "metadata": {
        "id": "dOV9Sg3cFpBU"
      },
      "source": [
        "**StandardScaler**\n",
        "\n",
        "Normalização por padronização"
      ]
    },
    {
      "cell_type": "code",
      "metadata": {
        "colab": {
          "base_uri": "https://localhost:8080/"
        },
        "id": "W-Ut28veFpL-",
        "outputId": "faa6f50e-4242-4bac-be18-b626bf0a04c6"
      },
      "source": [
        "from sklearn.preprocessing import StandardScaler\n",
        "\n",
        "dfTeste = df.copy() #fazendo uma cópia apenas para testar o comando (não será aplicado ao df)\n",
        "\n",
        "dfTeste[['idade', 'salario', 'bonus']] = StandardScaler().fit_transform(dfTeste[['idade', 'salario', 'bonus']])\n",
        "\n",
        "print(dfTeste)"
      ],
      "execution_count": null,
      "outputs": [
        {
          "output_type": "stream",
          "text": [
            "          cargo     idade   salario     bonus sócio\n",
            "0       Diretor  1.002248  0.657862  0.415034   sim\n",
            "1      Analista -0.907361 -0.803107 -0.770778   não\n",
            "2   Programador -0.243149  0.000000 -0.919005   não\n",
            "3       Gerente -0.741308 -0.154802  0.000000   não\n",
            "4       Gerente -0.243149  1.662279 -0.177872   sim\n",
            "5   Programador -0.907361 -1.049646 -0.770778   não\n",
            "6      Analista -1.073414  0.000000 -0.889360   não\n",
            "7       Diretor  1.417381  0.109999  0.118581   sim\n",
            "8      Fundador  2.662778  1.936211  3.083113   sim\n",
            "9      Analista -0.077096 -0.867024 -0.474325   não\n",
            "10  Programador  0.171983 -1.319560  0.000000   não\n",
            "11  Programador -0.409202 -1.122694 -0.741133   não\n",
            "12     Fundador -0.409202  1.205726  0.711488   sim\n",
            "13  Programador -0.243149 -0.255244  0.415034   sim\n"
          ],
          "name": "stdout"
        }
      ]
    },
    {
      "cell_type": "code",
      "metadata": {
        "colab": {
          "base_uri": "https://localhost:8080/",
          "height": 282
        },
        "id": "xcp5cnovfwro",
        "outputId": "abd870f6-5f59-4ede-a9ed-63fd2f784415"
      },
      "source": [
        "dfTeste.plot(kind = 'box') "
      ],
      "execution_count": null,
      "outputs": [
        {
          "output_type": "execute_result",
          "data": {
            "text/plain": [
              "<matplotlib.axes._subplots.AxesSubplot at 0x7f7865aa46d0>"
            ]
          },
          "metadata": {
            "tags": []
          },
          "execution_count": 36
        },
        {
          "output_type": "display_data",
          "data": {
            "image/png": "[encoded data removed]",
            "text/plain": [
              "<Figure size 432x288 with 1 Axes>"
            ]
          },
          "metadata": {
            "tags": [],
            "needs_background": "light"
          }
        }
      ]
    },
    {
      "cell_type": "markdown",
      "metadata": {
        "id": "Ed6iAgOFFOP_"
      },
      "source": [
        "**MinMaxScale**\n",
        "\n",
        "Normalização por reescala"
      ]
    },
    {
      "cell_type": "code",
      "metadata": {
        "colab": {
          "base_uri": "https://localhost:8080/"
        },
        "id": "2Zp1qFrvFOYh",
        "outputId": "e0b14358-d3ef-44d3-865f-31c7f83549b5"
      },
      "source": [
        "from sklearn.preprocessing import MinMaxScaler\n",
        "\n",
        "df[['idade', 'salario', 'bonus']] = MinMaxScaler().fit_transform(df[['idade', 'salario', 'bonus']])\n",
        "\n",
        "print(df)"
      ],
      "execution_count": null,
      "outputs": [
        {
          "output_type": "stream",
          "text": [
            "          cargo     idade   salario     bonus sócio\n",
            "0       Diretor  0.555556  0.607359  0.333333   sim\n",
            "1      Analista  0.044444  0.158627  0.037037   não\n",
            "2   Programador  0.222222  0.405299  0.000000   não\n",
            "3       Gerente  0.088889  0.357752  0.229630   não\n",
            "4       Gerente  0.222222  0.915863  0.185185   sim\n",
            "5   Programador  0.044444  0.082903  0.037037   não\n",
            "6      Analista  0.000000  0.405299  0.007407   não\n",
            "7       Diretor  0.666667  0.439085  0.259259   sim\n",
            "8      Fundador  1.000000  1.000000  1.000000   sim\n",
            "9      Analista  0.266667  0.138995  0.111111   não\n",
            "10  Programador  0.333333  0.000000  0.229630   não\n",
            "11  Programador  0.177778  0.060467  0.044444   não\n",
            "12     Fundador  0.177778  0.775634  0.407407   sim\n",
            "13  Programador  0.222222  0.326902  0.333333   sim\n"
          ],
          "name": "stdout"
        }
      ]
    },
    {
      "cell_type": "code",
      "metadata": {
        "colab": {
          "base_uri": "https://localhost:8080/",
          "height": 282
        },
        "id": "kNqymfYnfOZG",
        "outputId": "a1eb27c8-4b65-4c99-e9fd-cc63f55efc0b"
      },
      "source": [
        "df.plot(kind = 'box') "
      ],
      "execution_count": null,
      "outputs": [
        {
          "output_type": "execute_result",
          "data": {
            "text/plain": [
              "<matplotlib.axes._subplots.AxesSubplot at 0x7f7865556550>"
            ]
          },
          "metadata": {
            "tags": []
          },
          "execution_count": 39
        },
        {
          "output_type": "display_data",
          "data": {
            "image/png": "[encoded data removed]",
            "text/plain": [
              "<Figure size 432x288 with 1 Axes>"
            ]
          },
          "metadata": {
            "tags": [],
            "needs_background": "light"
          }
        }
      ]
    },
    {
      "cell_type": "markdown",
      "metadata": {
        "id": "4upkvF2ZkTPx"
      },
      "source": [
        "## 5) Mudança de tipo\n",
        "\n",
        "As colunas cargo e sócio são categóricas. Ao transformá-las em numéricas, devemos ter cuidado com a **ordem** imposta pelos números. \n",
        "\n",
        "Caso os atributos categóricos sejam não ordenáveis, devemos criar colunas que representem cada possível valor. Assim cada amostra terá o valor 0 ou 1 para esse atributo,indicando sua presença ou ausência."
      ]
    },
    {
      "cell_type": "code",
      "metadata": {
        "id": "Mo1k7PvwkV84"
      },
      "source": [
        "dfCargo = pd.get_dummies(df['cargo'], prefix = 'cargo')"
      ],
      "execution_count": null,
      "outputs": []
    },
    {
      "cell_type": "code",
      "metadata": {
        "colab": {
          "base_uri": "https://localhost:8080/",
          "height": 483
        },
        "id": "x_djgGwHwhmb",
        "outputId": "9975c218-e173-458c-b052-75af0d13753d"
      },
      "source": [
        "dfCargo"
      ],
      "execution_count": null,
      "outputs": [
        {
          "output_type": "execute_result",
          "data": {
            "text/html": [
              "<div>\n",
              "<style scoped>\n",
              "    .dataframe tbody tr th:only-of-type {\n",
              "        vertical-align: middle;\n",
              "    }\n",
              "\n",
              "    .dataframe tbody tr th {\n",
              "        vertical-align: top;\n",
              "    }\n",
              "\n",
              "    .dataframe thead th {\n",
              "        text-align: right;\n",
              "    }\n",
              "</style>\n",
              "<table border=\"1\" class=\"dataframe\">\n",
              "  <thead>\n",
              "    <tr style=\"text-align: right;\">\n",
              "      <th></th>\n",
              "      <th>cargo_Analista</th>\n",
              "      <th>cargo_Diretor</th>\n",
              "      <th>cargo_Fundador</th>\n",
              "      <th>cargo_Gerente</th>\n",
              "      <th>cargo_Programador</th>\n",
              "    </tr>\n",
              "  </thead>\n",
              "  <tbody>\n",
              "    <tr>\n",
              "      <th>0</th>\n",
              "      <td>0</td>\n",
              "      <td>1</td>\n",
              "      <td>0</td>\n",
              "      <td>0</td>\n",
              "      <td>0</td>\n",
              "    </tr>\n",
              "    <tr>\n",
              "      <th>1</th>\n",
              "      <td>1</td>\n",
              "      <td>0</td>\n",
              "      <td>0</td>\n",
              "      <td>0</td>\n",
              "      <td>0</td>\n",
              "    </tr>\n",
              "    <tr>\n",
              "      <th>2</th>\n",
              "      <td>0</td>\n",
              "      <td>0</td>\n",
              "      <td>0</td>\n",
              "      <td>0</td>\n",
              "      <td>1</td>\n",
              "    </tr>\n",
              "    <tr>\n",
              "      <th>3</th>\n",
              "      <td>0</td>\n",
              "      <td>0</td>\n",
              "      <td>0</td>\n",
              "      <td>1</td>\n",
              "      <td>0</td>\n",
              "    </tr>\n",
              "    <tr>\n",
              "      <th>4</th>\n",
              "      <td>0</td>\n",
              "      <td>0</td>\n",
              "      <td>0</td>\n",
              "      <td>1</td>\n",
              "      <td>0</td>\n",
              "    </tr>\n",
              "    <tr>\n",
              "      <th>5</th>\n",
              "      <td>0</td>\n",
              "      <td>0</td>\n",
              "      <td>0</td>\n",
              "      <td>0</td>\n",
              "      <td>1</td>\n",
              "    </tr>\n",
              "    <tr>\n",
              "      <th>6</th>\n",
              "      <td>1</td>\n",
              "      <td>0</td>\n",
              "      <td>0</td>\n",
              "      <td>0</td>\n",
              "      <td>0</td>\n",
              "    </tr>\n",
              "    <tr>\n",
              "      <th>7</th>\n",
              "      <td>0</td>\n",
              "      <td>1</td>\n",
              "      <td>0</td>\n",
              "      <td>0</td>\n",
              "      <td>0</td>\n",
              "    </tr>\n",
              "    <tr>\n",
              "      <th>8</th>\n",
              "      <td>0</td>\n",
              "      <td>0</td>\n",
              "      <td>1</td>\n",
              "      <td>0</td>\n",
              "      <td>0</td>\n",
              "    </tr>\n",
              "    <tr>\n",
              "      <th>9</th>\n",
              "      <td>1</td>\n",
              "      <td>0</td>\n",
              "      <td>0</td>\n",
              "      <td>0</td>\n",
              "      <td>0</td>\n",
              "    </tr>\n",
              "    <tr>\n",
              "      <th>10</th>\n",
              "      <td>0</td>\n",
              "      <td>0</td>\n",
              "      <td>0</td>\n",
              "      <td>0</td>\n",
              "      <td>1</td>\n",
              "    </tr>\n",
              "    <tr>\n",
              "      <th>11</th>\n",
              "      <td>0</td>\n",
              "      <td>0</td>\n",
              "      <td>0</td>\n",
              "      <td>0</td>\n",
              "      <td>1</td>\n",
              "    </tr>\n",
              "    <tr>\n",
              "      <th>12</th>\n",
              "      <td>0</td>\n",
              "      <td>0</td>\n",
              "      <td>1</td>\n",
              "      <td>0</td>\n",
              "      <td>0</td>\n",
              "    </tr>\n",
              "    <tr>\n",
              "      <th>13</th>\n",
              "      <td>0</td>\n",
              "      <td>0</td>\n",
              "      <td>0</td>\n",
              "      <td>0</td>\n",
              "      <td>1</td>\n",
              "    </tr>\n",
              "  </tbody>\n",
              "</table>\n",
              "</div>"
            ],
            "text/plain": [
              "    cargo_Analista  cargo_Diretor  ...  cargo_Gerente  cargo_Programador\n",
              "0                0              1  ...              0                  0\n",
              "1                1              0  ...              0                  0\n",
              "2                0              0  ...              0                  1\n",
              "3                0              0  ...              1                  0\n",
              "4                0              0  ...              1                  0\n",
              "5                0              0  ...              0                  1\n",
              "6                1              0  ...              0                  0\n",
              "7                0              1  ...              0                  0\n",
              "8                0              0  ...              0                  0\n",
              "9                1              0  ...              0                  0\n",
              "10               0              0  ...              0                  1\n",
              "11               0              0  ...              0                  1\n",
              "12               0              0  ...              0                  0\n",
              "13               0              0  ...              0                  1\n",
              "\n",
              "[14 rows x 5 columns]"
            ]
          },
          "metadata": {
            "tags": []
          },
          "execution_count": 26
        }
      ]
    },
    {
      "cell_type": "code",
      "metadata": {
        "colab": {
          "base_uri": "https://localhost:8080/",
          "height": 483
        },
        "id": "FmGJn7m_wl42",
        "outputId": "a1cb945b-bd78-40d8-c2b3-79407c9d7c43"
      },
      "source": [
        "df.iloc[:, 1:]"
      ],
      "execution_count": null,
      "outputs": [
        {
          "output_type": "execute_result",
          "data": {
            "text/html": [
              "<div>\n",
              "<style scoped>\n",
              "    .dataframe tbody tr th:only-of-type {\n",
              "        vertical-align: middle;\n",
              "    }\n",
              "\n",
              "    .dataframe tbody tr th {\n",
              "        vertical-align: top;\n",
              "    }\n",
              "\n",
              "    .dataframe thead th {\n",
              "        text-align: right;\n",
              "    }\n",
              "</style>\n",
              "<table border=\"1\" class=\"dataframe\">\n",
              "  <thead>\n",
              "    <tr style=\"text-align: right;\">\n",
              "      <th></th>\n",
              "      <th>idade</th>\n",
              "      <th>salario</th>\n",
              "      <th>bonus</th>\n",
              "      <th>sócio</th>\n",
              "    </tr>\n",
              "  </thead>\n",
              "  <tbody>\n",
              "    <tr>\n",
              "      <th>0</th>\n",
              "      <td>0.555556</td>\n",
              "      <td>0.607359</td>\n",
              "      <td>0.333333</td>\n",
              "      <td>sim</td>\n",
              "    </tr>\n",
              "    <tr>\n",
              "      <th>1</th>\n",
              "      <td>0.044444</td>\n",
              "      <td>0.158627</td>\n",
              "      <td>0.037037</td>\n",
              "      <td>não</td>\n",
              "    </tr>\n",
              "    <tr>\n",
              "      <th>2</th>\n",
              "      <td>0.222222</td>\n",
              "      <td>0.405299</td>\n",
              "      <td>0.000000</td>\n",
              "      <td>não</td>\n",
              "    </tr>\n",
              "    <tr>\n",
              "      <th>3</th>\n",
              "      <td>0.088889</td>\n",
              "      <td>0.357752</td>\n",
              "      <td>0.229630</td>\n",
              "      <td>não</td>\n",
              "    </tr>\n",
              "    <tr>\n",
              "      <th>4</th>\n",
              "      <td>0.222222</td>\n",
              "      <td>0.915863</td>\n",
              "      <td>0.185185</td>\n",
              "      <td>sim</td>\n",
              "    </tr>\n",
              "    <tr>\n",
              "      <th>5</th>\n",
              "      <td>0.044444</td>\n",
              "      <td>0.082903</td>\n",
              "      <td>0.037037</td>\n",
              "      <td>não</td>\n",
              "    </tr>\n",
              "    <tr>\n",
              "      <th>6</th>\n",
              "      <td>0.000000</td>\n",
              "      <td>0.405299</td>\n",
              "      <td>0.007407</td>\n",
              "      <td>não</td>\n",
              "    </tr>\n",
              "    <tr>\n",
              "      <th>7</th>\n",
              "      <td>0.666667</td>\n",
              "      <td>0.439085</td>\n",
              "      <td>0.259259</td>\n",
              "      <td>sim</td>\n",
              "    </tr>\n",
              "    <tr>\n",
              "      <th>8</th>\n",
              "      <td>1.000000</td>\n",
              "      <td>1.000000</td>\n",
              "      <td>1.000000</td>\n",
              "      <td>sim</td>\n",
              "    </tr>\n",
              "    <tr>\n",
              "      <th>9</th>\n",
              "      <td>0.266667</td>\n",
              "      <td>0.138995</td>\n",
              "      <td>0.111111</td>\n",
              "      <td>não</td>\n",
              "    </tr>\n",
              "    <tr>\n",
              "      <th>10</th>\n",
              "      <td>0.333333</td>\n",
              "      <td>0.000000</td>\n",
              "      <td>0.229630</td>\n",
              "      <td>não</td>\n",
              "    </tr>\n",
              "    <tr>\n",
              "      <th>11</th>\n",
              "      <td>0.177778</td>\n",
              "      <td>0.060467</td>\n",
              "      <td>0.044444</td>\n",
              "      <td>não</td>\n",
              "    </tr>\n",
              "    <tr>\n",
              "      <th>12</th>\n",
              "      <td>0.177778</td>\n",
              "      <td>0.775634</td>\n",
              "      <td>0.407407</td>\n",
              "      <td>sim</td>\n",
              "    </tr>\n",
              "    <tr>\n",
              "      <th>13</th>\n",
              "      <td>0.222222</td>\n",
              "      <td>0.326902</td>\n",
              "      <td>0.333333</td>\n",
              "      <td>sim</td>\n",
              "    </tr>\n",
              "  </tbody>\n",
              "</table>\n",
              "</div>"
            ],
            "text/plain": [
              "       idade   salario     bonus sócio\n",
              "0   0.555556  0.607359  0.333333   sim\n",
              "1   0.044444  0.158627  0.037037   não\n",
              "2   0.222222  0.405299  0.000000   não\n",
              "3   0.088889  0.357752  0.229630   não\n",
              "4   0.222222  0.915863  0.185185   sim\n",
              "5   0.044444  0.082903  0.037037   não\n",
              "6   0.000000  0.405299  0.007407   não\n",
              "7   0.666667  0.439085  0.259259   sim\n",
              "8   1.000000  1.000000  1.000000   sim\n",
              "9   0.266667  0.138995  0.111111   não\n",
              "10  0.333333  0.000000  0.229630   não\n",
              "11  0.177778  0.060467  0.044444   não\n",
              "12  0.177778  0.775634  0.407407   sim\n",
              "13  0.222222  0.326902  0.333333   sim"
            ]
          },
          "metadata": {
            "tags": []
          },
          "execution_count": 52
        }
      ]
    },
    {
      "cell_type": "code",
      "metadata": {
        "id": "Xlp9-wdXxZkF"
      },
      "source": [
        "df = dfCargo.join(df.iloc[:, 1:]) #junta o dfCargo com o df sem a coluna cargo"
      ],
      "execution_count": null,
      "outputs": []
    },
    {
      "cell_type": "code",
      "metadata": {
        "colab": {
          "base_uri": "https://localhost:8080/",
          "height": 483
        },
        "id": "3vQgSPfhxlQY",
        "outputId": "09e6478f-ccf7-4ac5-bcba-90767857ce48"
      },
      "source": [
        "df"
      ],
      "execution_count": null,
      "outputs": [
        {
          "output_type": "execute_result",
          "data": {
            "text/html": [
              "<div>\n",
              "<style scoped>\n",
              "    .dataframe tbody tr th:only-of-type {\n",
              "        vertical-align: middle;\n",
              "    }\n",
              "\n",
              "    .dataframe tbody tr th {\n",
              "        vertical-align: top;\n",
              "    }\n",
              "\n",
              "    .dataframe thead th {\n",
              "        text-align: right;\n",
              "    }\n",
              "</style>\n",
              "<table border=\"1\" class=\"dataframe\">\n",
              "  <thead>\n",
              "    <tr style=\"text-align: right;\">\n",
              "      <th></th>\n",
              "      <th>cargo_Analista</th>\n",
              "      <th>cargo_Diretor</th>\n",
              "      <th>cargo_Fundador</th>\n",
              "      <th>cargo_Gerente</th>\n",
              "      <th>cargo_Programador</th>\n",
              "      <th>idade</th>\n",
              "      <th>salario</th>\n",
              "      <th>bonus</th>\n",
              "      <th>sócio</th>\n",
              "    </tr>\n",
              "  </thead>\n",
              "  <tbody>\n",
              "    <tr>\n",
              "      <th>0</th>\n",
              "      <td>0</td>\n",
              "      <td>1</td>\n",
              "      <td>0</td>\n",
              "      <td>0</td>\n",
              "      <td>0</td>\n",
              "      <td>0.555556</td>\n",
              "      <td>0.607359</td>\n",
              "      <td>0.333333</td>\n",
              "      <td>sim</td>\n",
              "    </tr>\n",
              "    <tr>\n",
              "      <th>1</th>\n",
              "      <td>1</td>\n",
              "      <td>0</td>\n",
              "      <td>0</td>\n",
              "      <td>0</td>\n",
              "      <td>0</td>\n",
              "      <td>0.044444</td>\n",
              "      <td>0.158627</td>\n",
              "      <td>0.037037</td>\n",
              "      <td>não</td>\n",
              "    </tr>\n",
              "    <tr>\n",
              "      <th>2</th>\n",
              "      <td>0</td>\n",
              "      <td>0</td>\n",
              "      <td>0</td>\n",
              "      <td>0</td>\n",
              "      <td>1</td>\n",
              "      <td>0.222222</td>\n",
              "      <td>0.405299</td>\n",
              "      <td>0.000000</td>\n",
              "      <td>não</td>\n",
              "    </tr>\n",
              "    <tr>\n",
              "      <th>3</th>\n",
              "      <td>0</td>\n",
              "      <td>0</td>\n",
              "      <td>0</td>\n",
              "      <td>1</td>\n",
              "      <td>0</td>\n",
              "      <td>0.088889</td>\n",
              "      <td>0.357752</td>\n",
              "      <td>0.229630</td>\n",
              "      <td>não</td>\n",
              "    </tr>\n",
              "    <tr>\n",
              "      <th>4</th>\n",
              "      <td>0</td>\n",
              "      <td>0</td>\n",
              "      <td>0</td>\n",
              "      <td>1</td>\n",
              "      <td>0</td>\n",
              "      <td>0.222222</td>\n",
              "      <td>0.915863</td>\n",
              "      <td>0.185185</td>\n",
              "      <td>sim</td>\n",
              "    </tr>\n",
              "    <tr>\n",
              "      <th>5</th>\n",
              "      <td>0</td>\n",
              "      <td>0</td>\n",
              "      <td>0</td>\n",
              "      <td>0</td>\n",
              "      <td>1</td>\n",
              "      <td>0.044444</td>\n",
              "      <td>0.082903</td>\n",
              "      <td>0.037037</td>\n",
              "      <td>não</td>\n",
              "    </tr>\n",
              "    <tr>\n",
              "      <th>6</th>\n",
              "      <td>1</td>\n",
              "      <td>0</td>\n",
              "      <td>0</td>\n",
              "      <td>0</td>\n",
              "      <td>0</td>\n",
              "      <td>0.000000</td>\n",
              "      <td>0.405299</td>\n",
              "      <td>0.007407</td>\n",
              "      <td>não</td>\n",
              "    </tr>\n",
              "    <tr>\n",
              "      <th>7</th>\n",
              "      <td>0</td>\n",
              "      <td>1</td>\n",
              "      <td>0</td>\n",
              "      <td>0</td>\n",
              "      <td>0</td>\n",
              "      <td>0.666667</td>\n",
              "      <td>0.439085</td>\n",
              "      <td>0.259259</td>\n",
              "      <td>sim</td>\n",
              "    </tr>\n",
              "    <tr>\n",
              "      <th>8</th>\n",
              "      <td>0</td>\n",
              "      <td>0</td>\n",
              "      <td>1</td>\n",
              "      <td>0</td>\n",
              "      <td>0</td>\n",
              "      <td>1.000000</td>\n",
              "      <td>1.000000</td>\n",
              "      <td>1.000000</td>\n",
              "      <td>sim</td>\n",
              "    </tr>\n",
              "    <tr>\n",
              "      <th>9</th>\n",
              "      <td>1</td>\n",
              "      <td>0</td>\n",
              "      <td>0</td>\n",
              "      <td>0</td>\n",
              "      <td>0</td>\n",
              "      <td>0.266667</td>\n",
              "      <td>0.138995</td>\n",
              "      <td>0.111111</td>\n",
              "      <td>não</td>\n",
              "    </tr>\n",
              "    <tr>\n",
              "      <th>10</th>\n",
              "      <td>0</td>\n",
              "      <td>0</td>\n",
              "      <td>0</td>\n",
              "      <td>0</td>\n",
              "      <td>1</td>\n",
              "      <td>0.333333</td>\n",
              "      <td>0.000000</td>\n",
              "      <td>0.229630</td>\n",
              "      <td>não</td>\n",
              "    </tr>\n",
              "    <tr>\n",
              "      <th>11</th>\n",
              "      <td>0</td>\n",
              "      <td>0</td>\n",
              "      <td>0</td>\n",
              "      <td>0</td>\n",
              "      <td>1</td>\n",
              "      <td>0.177778</td>\n",
              "      <td>0.060467</td>\n",
              "      <td>0.044444</td>\n",
              "      <td>não</td>\n",
              "    </tr>\n",
              "    <tr>\n",
              "      <th>12</th>\n",
              "      <td>0</td>\n",
              "      <td>0</td>\n",
              "      <td>1</td>\n",
              "      <td>0</td>\n",
              "      <td>0</td>\n",
              "      <td>0.177778</td>\n",
              "      <td>0.775634</td>\n",
              "      <td>0.407407</td>\n",
              "      <td>sim</td>\n",
              "    </tr>\n",
              "    <tr>\n",
              "      <th>13</th>\n",
              "      <td>0</td>\n",
              "      <td>0</td>\n",
              "      <td>0</td>\n",
              "      <td>0</td>\n",
              "      <td>1</td>\n",
              "      <td>0.222222</td>\n",
              "      <td>0.326902</td>\n",
              "      <td>0.333333</td>\n",
              "      <td>sim</td>\n",
              "    </tr>\n",
              "  </tbody>\n",
              "</table>\n",
              "</div>"
            ],
            "text/plain": [
              "    cargo_Analista  cargo_Diretor  cargo_Fundador  ...   salario     bonus  sócio\n",
              "0                0              1               0  ...  0.607359  0.333333    sim\n",
              "1                1              0               0  ...  0.158627  0.037037    não\n",
              "2                0              0               0  ...  0.405299  0.000000    não\n",
              "3                0              0               0  ...  0.357752  0.229630    não\n",
              "4                0              0               0  ...  0.915863  0.185185    sim\n",
              "5                0              0               0  ...  0.082903  0.037037    não\n",
              "6                1              0               0  ...  0.405299  0.007407    não\n",
              "7                0              1               0  ...  0.439085  0.259259    sim\n",
              "8                0              0               1  ...  1.000000  1.000000    sim\n",
              "9                1              0               0  ...  0.138995  0.111111    não\n",
              "10               0              0               0  ...  0.000000  0.229630    não\n",
              "11               0              0               0  ...  0.060467  0.044444    não\n",
              "12               0              0               1  ...  0.775634  0.407407    sim\n",
              "13               0              0               0  ...  0.326902  0.333333    sim\n",
              "\n",
              "[14 rows x 9 columns]"
            ]
          },
          "metadata": {
            "tags": []
          },
          "execution_count": 8
        }
      ]
    },
    {
      "cell_type": "markdown",
      "metadata": {
        "id": "PKI9Z4z2NOTp"
      },
      "source": [
        "**LabelEnconder**\n",
        "\n",
        "Transforma os nomes em números"
      ]
    },
    {
      "cell_type": "code",
      "metadata": {
        "id": "tkTEcrDhx-q8"
      },
      "source": [
        "from sklearn.preprocessing import LabelEncoder\n",
        "\n",
        "le = LabelEncoder()"
      ],
      "execution_count": null,
      "outputs": []
    },
    {
      "cell_type": "code",
      "metadata": {
        "id": "tstalrvh4qB1"
      },
      "source": [
        "df['sócio'] = le.fit_transform(df['sócio'])"
      ],
      "execution_count": null,
      "outputs": []
    },
    {
      "cell_type": "code",
      "source": [
        "le.classes_"
      ],
      "metadata": {
        "colab": {
          "base_uri": "https://localhost:8080/"
        },
        "id": "COlZlpYaB3ta",
        "outputId": "959230fb-c02d-40cd-cd34-5a0d766c302e"
      },
      "execution_count": null,
      "outputs": [
        {
          "output_type": "execute_result",
          "data": {
            "text/plain": [
              "array(['não', 'sim'], dtype=object)"
            ]
          },
          "metadata": {},
          "execution_count": 21
        }
      ]
    },
    {
      "cell_type": "code",
      "metadata": {
        "colab": {
          "base_uri": "https://localhost:8080/",
          "height": 488
        },
        "id": "fnGsrej4yM7C",
        "outputId": "70970b86-c132-48ed-e15b-3f721972283e"
      },
      "source": [
        "df"
      ],
      "execution_count": null,
      "outputs": [
        {
          "output_type": "execute_result",
          "data": {
            "text/html": [
              "\n",
              "  <div id=\"df-04c72757-257e-477c-a233-77ac10002629\">\n",
              "    <div class=\"colab-df-container\">\n",
              "      <div>\n",
              "<style scoped>\n",
              "    .dataframe tbody tr th:only-of-type {\n",
              "        vertical-align: middle;\n",
              "    }\n",
              "\n",
              "    .dataframe tbody tr th {\n",
              "        vertical-align: top;\n",
              "    }\n",
              "\n",
              "    .dataframe thead th {\n",
              "        text-align: right;\n",
              "    }\n",
              "</style>\n",
              "<table border=\"1\" class=\"dataframe\">\n",
              "  <thead>\n",
              "    <tr style=\"text-align: right;\">\n",
              "      <th></th>\n",
              "      <th>cargo</th>\n",
              "      <th>idade</th>\n",
              "      <th>salario</th>\n",
              "      <th>bonus</th>\n",
              "      <th>sócio</th>\n",
              "    </tr>\n",
              "  </thead>\n",
              "  <tbody>\n",
              "    <tr>\n",
              "      <th>0</th>\n",
              "      <td>Diretor</td>\n",
              "      <td>45</td>\n",
              "      <td>24000.0</td>\n",
              "      <td>10000.0</td>\n",
              "      <td>1</td>\n",
              "    </tr>\n",
              "    <tr>\n",
              "      <th>1</th>\n",
              "      <td>Analista</td>\n",
              "      <td>22</td>\n",
              "      <td>8000.0</td>\n",
              "      <td>2000.0</td>\n",
              "      <td>0</td>\n",
              "    </tr>\n",
              "    <tr>\n",
              "      <th>2</th>\n",
              "      <td>Programador</td>\n",
              "      <td>30</td>\n",
              "      <td>NaN</td>\n",
              "      <td>1000.0</td>\n",
              "      <td>0</td>\n",
              "    </tr>\n",
              "    <tr>\n",
              "      <th>3</th>\n",
              "      <td>Gerente</td>\n",
              "      <td>24</td>\n",
              "      <td>15100.0</td>\n",
              "      <td>NaN</td>\n",
              "      <td>0</td>\n",
              "    </tr>\n",
              "    <tr>\n",
              "      <th>4</th>\n",
              "      <td>Gerente</td>\n",
              "      <td>30</td>\n",
              "      <td>35000.0</td>\n",
              "      <td>6000.0</td>\n",
              "      <td>1</td>\n",
              "    </tr>\n",
              "    <tr>\n",
              "      <th>5</th>\n",
              "      <td>Programador</td>\n",
              "      <td>22</td>\n",
              "      <td>5300.0</td>\n",
              "      <td>2000.0</td>\n",
              "      <td>0</td>\n",
              "    </tr>\n",
              "    <tr>\n",
              "      <th>6</th>\n",
              "      <td>Analista</td>\n",
              "      <td>20</td>\n",
              "      <td>NaN</td>\n",
              "      <td>1200.0</td>\n",
              "      <td>0</td>\n",
              "    </tr>\n",
              "    <tr>\n",
              "      <th>7</th>\n",
              "      <td>Diretor</td>\n",
              "      <td>50</td>\n",
              "      <td>18000.0</td>\n",
              "      <td>8000.0</td>\n",
              "      <td>1</td>\n",
              "    </tr>\n",
              "    <tr>\n",
              "      <th>8</th>\n",
              "      <td>Fundador</td>\n",
              "      <td>65</td>\n",
              "      <td>38000.0</td>\n",
              "      <td>28000.0</td>\n",
              "      <td>1</td>\n",
              "    </tr>\n",
              "    <tr>\n",
              "      <th>9</th>\n",
              "      <td>Analista</td>\n",
              "      <td>32</td>\n",
              "      <td>7300.0</td>\n",
              "      <td>4000.0</td>\n",
              "      <td>0</td>\n",
              "    </tr>\n",
              "    <tr>\n",
              "      <th>10</th>\n",
              "      <td>Programador</td>\n",
              "      <td>35</td>\n",
              "      <td>2344.0</td>\n",
              "      <td>NaN</td>\n",
              "      <td>0</td>\n",
              "    </tr>\n",
              "    <tr>\n",
              "      <th>11</th>\n",
              "      <td>Programador</td>\n",
              "      <td>28</td>\n",
              "      <td>4500.0</td>\n",
              "      <td>2200.0</td>\n",
              "      <td>0</td>\n",
              "    </tr>\n",
              "    <tr>\n",
              "      <th>12</th>\n",
              "      <td>Fundador</td>\n",
              "      <td>28</td>\n",
              "      <td>30000.0</td>\n",
              "      <td>12000.0</td>\n",
              "      <td>1</td>\n",
              "    </tr>\n",
              "    <tr>\n",
              "      <th>13</th>\n",
              "      <td>Programador</td>\n",
              "      <td>30</td>\n",
              "      <td>14000.0</td>\n",
              "      <td>10000.0</td>\n",
              "      <td>1</td>\n",
              "    </tr>\n",
              "  </tbody>\n",
              "</table>\n",
              "</div>\n",
              "      <button class=\"colab-df-convert\" onclick=\"convertToInteractive('df-04c72757-257e-477c-a233-77ac10002629')\"\n",
              "              title=\"Convert this dataframe to an interactive table.\"\n",
              "              style=\"display:none;\">\n",
              "        \n",
              "  <svg xmlns=\"http://www.w3.org/2000/svg\" height=\"24px\"viewBox=\"0 0 24 24\"\n",
              "       width=\"24px\">\n",
              "    <path d=\"M0 0h24v24H0V0z\" fill=\"none\"/>\n",
              "    <path d=\"M18.56 5.44l.94 2.06.94-2.06 2.06-.94-2.06-.94-.94-2.06-.94 2.06-2.06.94zm-11 1L8.5 8.5l.94-2.06 2.06-.94-2.06-.94L8.5 2.5l-.94 2.06-2.06.94zm10 10l.94 2.06.94-2.06 2.06-.94-2.06-.94-.94-2.06-.94 2.06-2.06.94z\"/><path d=\"M17.41 7.96l-1.37-1.37c-.4-.4-.92-.59-1.43-.59-.52 0-1.04.2-1.43.59L10.3 9.45l-7.72 7.72c-.78.78-.78 2.05 0 2.83L4 21.41c.39.39.9.59 1.41.59.51 0 1.02-.2 1.41-.59l7.78-7.78 2.81-2.81c.8-.78.8-2.07 0-2.86zM5.41 20L4 18.59l7.72-7.72 1.47 1.35L5.41 20z\"/>\n",
              "  </svg>\n",
              "      </button>\n",
              "      \n",
              "  <style>\n",
              "    .colab-df-container {\n",
              "      display:flex;\n",
              "      flex-wrap:wrap;\n",
              "      gap: 12px;\n",
              "    }\n",
              "\n",
              "    .colab-df-convert {\n",
              "      background-color: #E8F0FE;\n",
              "      border: none;\n",
              "      border-radius: 50%;\n",
              "      cursor: pointer;\n",
              "      display: none;\n",
              "      fill: #1967D2;\n",
              "      height: 32px;\n",
              "      padding: 0 0 0 0;\n",
              "      width: 32px;\n",
              "    }\n",
              "\n",
              "    .colab-df-convert:hover {\n",
              "      background-color: #E2EBFA;\n",
              "      box-shadow: 0px 1px 2px rgba(60, 64, 67, 0.3), 0px 1px 3px 1px rgba(60, 64, 67, 0.15);\n",
              "      fill: #174EA6;\n",
              "    }\n",
              "\n",
              "    [theme=dark] .colab-df-convert {\n",
              "      background-color: #3B4455;\n",
              "      fill: #D2E3FC;\n",
              "    }\n",
              "\n",
              "    [theme=dark] .colab-df-convert:hover {\n",
              "      background-color: #434B5C;\n",
              "      box-shadow: 0px 1px 3px 1px rgba(0, 0, 0, 0.15);\n",
              "      filter: drop-shadow(0px 1px 2px rgba(0, 0, 0, 0.3));\n",
              "      fill: #FFFFFF;\n",
              "    }\n",
              "  </style>\n",
              "\n",
              "      <script>\n",
              "        const buttonEl =\n",
              "          document.querySelector('#df-04c72757-257e-477c-a233-77ac10002629 button.colab-df-convert');\n",
              "        buttonEl.style.display =\n",
              "          google.colab.kernel.accessAllowed ? 'block' : 'none';\n",
              "\n",
              "        async function convertToInteractive(key) {\n",
              "          const element = document.querySelector('#df-04c72757-257e-477c-a233-77ac10002629');\n",
              "          const dataTable =\n",
              "            await google.colab.kernel.invokeFunction('convertToInteractive',\n",
              "                                                     [key], {});\n",
              "          if (!dataTable) return;\n",
              "\n",
              "          const docLinkHtml = 'Like what you see? Visit the ' +\n",
              "            '<a target=\"_blank\" href=https://colab.research.google.com/notebooks/data_table.ipynb>data table notebook</a>'\n",
              "            + ' to learn more about interactive tables.';\n",
              "          element.innerHTML = '';\n",
              "          dataTable['output_type'] = 'display_data';\n",
              "          await google.colab.output.renderOutput(dataTable, element);\n",
              "          const docLink = document.createElement('div');\n",
              "          docLink.innerHTML = docLinkHtml;\n",
              "          element.appendChild(docLink);\n",
              "        }\n",
              "      </script>\n",
              "    </div>\n",
              "  </div>\n",
              "  "
            ],
            "text/plain": [
              "          cargo  idade  salario    bonus  sócio\n",
              "0       Diretor     45  24000.0  10000.0      1\n",
              "1      Analista     22   8000.0   2000.0      0\n",
              "2   Programador     30      NaN   1000.0      0\n",
              "3       Gerente     24  15100.0      NaN      0\n",
              "4       Gerente     30  35000.0   6000.0      1\n",
              "5   Programador     22   5300.0   2000.0      0\n",
              "6      Analista     20      NaN   1200.0      0\n",
              "7       Diretor     50  18000.0   8000.0      1\n",
              "8      Fundador     65  38000.0  28000.0      1\n",
              "9      Analista     32   7300.0   4000.0      0\n",
              "10  Programador     35   2344.0      NaN      0\n",
              "11  Programador     28   4500.0   2200.0      0\n",
              "12     Fundador     28  30000.0  12000.0      1\n",
              "13  Programador     30  14000.0  10000.0      1"
            ]
          },
          "metadata": {},
          "execution_count": 22
        }
      ]
    },
    {
      "cell_type": "markdown",
      "metadata": {
        "id": "S0d8uxeYkWIJ"
      },
      "source": [
        "## 6) Redução de dimensionalidade"
      ]
    },
    {
      "cell_type": "markdown",
      "metadata": {
        "id": "ZDVJEOC9R7x_"
      },
      "source": [
        "### Correlação"
      ]
    },
    {
      "cell_type": "code",
      "metadata": {
        "id": "Z7iIJiWHn53O"
      },
      "source": [
        "corr = df[['idade', 'salario', 'bonus']].corr()"
      ],
      "execution_count": null,
      "outputs": []
    },
    {
      "cell_type": "code",
      "metadata": {
        "colab": {
          "base_uri": "https://localhost:8080/",
          "height": 286
        },
        "id": "Y_AZqDo7Nu_h",
        "outputId": "da1d14d9-24a7-4d24-f1e9-66c2548448e4"
      },
      "source": [
        "sb.heatmap(corr, annot=True, fmt=\".2f\", cmap='Blues')"
      ],
      "execution_count": null,
      "outputs": [
        {
          "output_type": "execute_result",
          "data": {
            "text/plain": [
              "<matplotlib.axes._subplots.AxesSubplot at 0x7fbd17b71cd0>"
            ]
          },
          "metadata": {
            "tags": []
          },
          "execution_count": 87
        },
        {
          "output_type": "display_data",
          "data": {
            "image/png": "[encoded data removed]",
            "text/plain": [
              "<Figure size 432x288 with 2 Axes>"
            ]
          },
          "metadata": {
            "tags": [],
            "needs_background": "light"
          }
        }
      ]
    },
    {
      "cell_type": "markdown",
      "metadata": {
        "id": "PSFqNuiqwwhC"
      },
      "source": [
        "### Seleção de atributos\n",
        "\n",
        "https://scikit-learn.org/stable/modules/feature_selection.html"
      ]
    },
    {
      "cell_type": "markdown",
      "metadata": {
        "id": "c6oxf52Tw8E0"
      },
      "source": [
        "### Agregação de atributos\n",
        "\n",
        "Uma forma muito usada de redução de dimensionalidade é o **PCA (Análise dos componentes principais)** que é uma técnica que transforma atributos com uma certa correlação em um único atributo. \n",
        "\n",
        "O PCA deve ser aplicado apenas em casos em que o seu dataset possui muitas colunas, realmente um número muito grande e o treino do seu modelo acaba por ser muito demorado ou inviável devido ao alto número de colunas, uma vez que o PCA é uma técnica na qual sempre haverá perda de informações. \n",
        "\n",
        "Em nosso exemplo o PCA será aplicado de forma meramente ilustrativa uma vez que não possuímos muitas colunas.\n",
        "\n",
        "https://scikit-learn.org/stable/modules/generated/sklearn.decomposition.PCA.html"
      ]
    },
    {
      "cell_type": "code",
      "metadata": {
        "id": "YCYlPBZgdTvN"
      },
      "source": [
        "df.iloc[:,:-1] #retorna todo o dataframe, exceto a última coluna (alvo)"
      ],
      "execution_count": null,
      "outputs": []
    },
    {
      "cell_type": "code",
      "metadata": {
        "id": "KdazknuekZQd"
      },
      "source": [
        "from sklearn.decomposition import PCA\n",
        "\n",
        " #O atributo n_components representa quantos atributos queremos deixar\n",
        " #usando ’mle’ o Minka’s MLE será utilizado para escolher a melhor dimensão a ser mantida\n",
        "pca = PCA(n_components='mle')\n",
        "\n",
        "newData = pca.fit_transform(df.iloc[:,:-1])"
      ],
      "execution_count": null,
      "outputs": []
    },
    {
      "cell_type": "code",
      "metadata": {
        "id": "xdJBDLldz-vV"
      },
      "source": [
        "dfNew = pd.DataFrame(newData)"
      ],
      "execution_count": null,
      "outputs": []
    },
    {
      "cell_type": "code",
      "metadata": {
        "colab": {
          "base_uri": "https://localhost:8080/",
          "height": 483
        },
        "id": "E6aID68h0Kg3",
        "outputId": "5897c72a-bd39-4d1b-dd70-d7bdf47afb6c"
      },
      "source": [
        "dfNew"
      ],
      "execution_count": null,
      "outputs": [
        {
          "output_type": "execute_result",
          "data": {
            "text/html": [
              "<div>\n",
              "<style scoped>\n",
              "    .dataframe tbody tr th:only-of-type {\n",
              "        vertical-align: middle;\n",
              "    }\n",
              "\n",
              "    .dataframe tbody tr th {\n",
              "        vertical-align: top;\n",
              "    }\n",
              "\n",
              "    .dataframe thead th {\n",
              "        text-align: right;\n",
              "    }\n",
              "</style>\n",
              "<table border=\"1\" class=\"dataframe\">\n",
              "  <thead>\n",
              "    <tr style=\"text-align: right;\">\n",
              "      <th></th>\n",
              "      <th>0</th>\n",
              "      <th>1</th>\n",
              "      <th>2</th>\n",
              "      <th>3</th>\n",
              "      <th>4</th>\n",
              "      <th>5</th>\n",
              "      <th>6</th>\n",
              "    </tr>\n",
              "  </thead>\n",
              "  <tbody>\n",
              "    <tr>\n",
              "      <th>0</th>\n",
              "      <td>0.538666</td>\n",
              "      <td>-0.132673</td>\n",
              "      <td>-0.335747</td>\n",
              "      <td>0.797916</td>\n",
              "      <td>0.084665</td>\n",
              "      <td>-0.057145</td>\n",
              "      <td>0.070214</td>\n",
              "    </tr>\n",
              "    <tr>\n",
              "      <th>1</th>\n",
              "      <td>-0.136827</td>\n",
              "      <td>0.932838</td>\n",
              "      <td>-0.212710</td>\n",
              "      <td>-0.162717</td>\n",
              "      <td>-0.002876</td>\n",
              "      <td>0.045334</td>\n",
              "      <td>0.018614</td>\n",
              "    </tr>\n",
              "    <tr>\n",
              "      <th>2</th>\n",
              "      <td>-0.603636</td>\n",
              "      <td>-0.376445</td>\n",
              "      <td>0.016362</td>\n",
              "      <td>-0.048506</td>\n",
              "      <td>0.072547</td>\n",
              "      <td>-0.233347</td>\n",
              "      <td>-0.094616</td>\n",
              "    </tr>\n",
              "    <tr>\n",
              "      <th>3</th>\n",
              "      <td>0.201868</td>\n",
              "      <td>0.182088</td>\n",
              "      <td>0.904577</td>\n",
              "      <td>0.154439</td>\n",
              "      <td>-0.062577</td>\n",
              "      <td>0.263624</td>\n",
              "      <td>0.034314</td>\n",
              "    </tr>\n",
              "    <tr>\n",
              "      <th>4</th>\n",
              "      <td>0.469561</td>\n",
              "      <td>0.081266</td>\n",
              "      <td>0.958319</td>\n",
              "      <td>0.128387</td>\n",
              "      <td>-0.036214</td>\n",
              "      <td>-0.226276</td>\n",
              "      <td>-0.037466</td>\n",
              "    </tr>\n",
              "    <tr>\n",
              "      <th>5</th>\n",
              "      <td>-0.782750</td>\n",
              "      <td>-0.296091</td>\n",
              "      <td>0.010318</td>\n",
              "      <td>-0.047064</td>\n",
              "      <td>0.119467</td>\n",
              "      <td>0.057194</td>\n",
              "      <td>0.013656</td>\n",
              "    </tr>\n",
              "    <tr>\n",
              "      <th>6</th>\n",
              "      <td>-0.050146</td>\n",
              "      <td>0.916120</td>\n",
              "      <td>-0.161142</td>\n",
              "      <td>-0.184673</td>\n",
              "      <td>0.082310</td>\n",
              "      <td>-0.167030</td>\n",
              "      <td>0.038878</td>\n",
              "    </tr>\n",
              "    <tr>\n",
              "      <th>7</th>\n",
              "      <td>0.473515</td>\n",
              "      <td>-0.118716</td>\n",
              "      <td>-0.382454</td>\n",
              "      <td>0.837649</td>\n",
              "      <td>0.015171</td>\n",
              "      <td>0.067569</td>\n",
              "      <td>-0.062324</td>\n",
              "    </tr>\n",
              "    <tr>\n",
              "      <th>8</th>\n",
              "      <td>1.213799</td>\n",
              "      <td>-0.626536</td>\n",
              "      <td>-0.301079</td>\n",
              "      <td>-0.592176</td>\n",
              "      <td>-0.310027</td>\n",
              "      <td>-0.026410</td>\n",
              "      <td>-0.008237</td>\n",
              "    </tr>\n",
              "    <tr>\n",
              "      <th>9</th>\n",
              "      <td>-0.061571</td>\n",
              "      <td>0.863221</td>\n",
              "      <td>-0.280715</td>\n",
              "      <td>-0.147103</td>\n",
              "      <td>-0.188053</td>\n",
              "      <td>0.061814</td>\n",
              "      <td>-0.054286</td>\n",
              "    </tr>\n",
              "    <tr>\n",
              "      <th>10</th>\n",
              "      <td>-0.681023</td>\n",
              "      <td>-0.401450</td>\n",
              "      <td>-0.096344</td>\n",
              "      <td>-0.037396</td>\n",
              "      <td>-0.174537</td>\n",
              "      <td>0.143404</td>\n",
              "      <td>-0.011487</td>\n",
              "    </tr>\n",
              "    <tr>\n",
              "      <th>11</th>\n",
              "      <td>-0.753412</td>\n",
              "      <td>-0.327541</td>\n",
              "      <td>-0.028382</td>\n",
              "      <td>-0.030743</td>\n",
              "      <td>0.023260</td>\n",
              "      <td>0.070020</td>\n",
              "      <td>-0.059158</td>\n",
              "    </tr>\n",
              "    <tr>\n",
              "      <th>12</th>\n",
              "      <td>0.709510</td>\n",
              "      <td>-0.251289</td>\n",
              "      <td>-0.062245</td>\n",
              "      <td>-0.572186</td>\n",
              "      <td>0.468191</td>\n",
              "      <td>0.112671</td>\n",
              "      <td>-0.002934</td>\n",
              "    </tr>\n",
              "    <tr>\n",
              "      <th>13</th>\n",
              "      <td>-0.537556</td>\n",
              "      <td>-0.444792</td>\n",
              "      <td>-0.028759</td>\n",
              "      <td>-0.095827</td>\n",
              "      <td>-0.091325</td>\n",
              "      <td>-0.111421</td>\n",
              "      <td>0.154831</td>\n",
              "    </tr>\n",
              "  </tbody>\n",
              "</table>\n",
              "</div>"
            ],
            "text/plain": [
              "           0         1         2         3         4         5         6\n",
              "0   0.538666 -0.132673 -0.335747  0.797916  0.084665 -0.057145  0.070214\n",
              "1  -0.136827  0.932838 -0.212710 -0.162717 -0.002876  0.045334  0.018614\n",
              "2  -0.603636 -0.376445  0.016362 -0.048506  0.072547 -0.233347 -0.094616\n",
              "3   0.201868  0.182088  0.904577  0.154439 -0.062577  0.263624  0.034314\n",
              "4   0.469561  0.081266  0.958319  0.128387 -0.036214 -0.226276 -0.037466\n",
              "5  -0.782750 -0.296091  0.010318 -0.047064  0.119467  0.057194  0.013656\n",
              "6  -0.050146  0.916120 -0.161142 -0.184673  0.082310 -0.167030  0.038878\n",
              "7   0.473515 -0.118716 -0.382454  0.837649  0.015171  0.067569 -0.062324\n",
              "8   1.213799 -0.626536 -0.301079 -0.592176 -0.310027 -0.026410 -0.008237\n",
              "9  -0.061571  0.863221 -0.280715 -0.147103 -0.188053  0.061814 -0.054286\n",
              "10 -0.681023 -0.401450 -0.096344 -0.037396 -0.174537  0.143404 -0.011487\n",
              "11 -0.753412 -0.327541 -0.028382 -0.030743  0.023260  0.070020 -0.059158\n",
              "12  0.709510 -0.251289 -0.062245 -0.572186  0.468191  0.112671 -0.002934\n",
              "13 -0.537556 -0.444792 -0.028759 -0.095827 -0.091325 -0.111421  0.154831"
            ]
          },
          "metadata": {
            "tags": []
          },
          "execution_count": 90
        }
      ]
    },
    {
      "cell_type": "markdown",
      "metadata": {
        "id": "nmXJIJTlLxZ8"
      },
      "source": [
        "## 7) Balanceamento da base\n",
        "\n",
        "Bases de dados desbalanceadas são aquelas em que há uma maior proporção de amostras de uma classe do que da(s) outra(s)\n",
        "\n",
        "Chamamos de classe minoritária a que tem menos exemplos e de classe majoritária a que tem mais exemplos\n",
        "\n",
        "Para efetuar o balanceamento podemos fazer um oversampling (sobreamostragem) ou um undersampling (subamostragem). No primeiro, nós aumentamos exemplos da classe minoritária e no segundo nós diminuimos exemplos da classe majoritária.\n",
        "\n",
        "\n",
        "https://imbalanced-learn.org/stable/user_guide.html#user-guide\n",
        "\n",
        "\n",
        "https://imbalanced-learn.org/stable/references/index.html"
      ]
    },
    {
      "cell_type": "code",
      "metadata": {
        "colab": {
          "base_uri": "https://localhost:8080/"
        },
        "id": "eRVRfJiyZHdJ",
        "outputId": "fef37bb6-9b00-4101-c4d8-b6832e182f1b"
      },
      "source": [
        "#verifica desbalanceamento em relação ao gender\n",
        "df['sócio'].value_counts()"
      ],
      "execution_count": null,
      "outputs": [
        {
          "output_type": "execute_result",
          "data": {
            "text/plain": [
              "0    8\n",
              "1    6\n",
              "Name: sócio, dtype: int64"
            ]
          },
          "metadata": {
            "tags": []
          },
          "execution_count": 92
        }
      ]
    },
    {
      "cell_type": "code",
      "metadata": {
        "id": "ca1Gwbh1LxxU"
      },
      "source": [
        "from imblearn.under_sampling import NearMiss \n",
        "\n",
        "X, y = NearMiss().fit_resample(df.drop(columns=['sócio']), df['sócio'])\n"
      ],
      "execution_count": null,
      "outputs": []
    },
    {
      "cell_type": "code",
      "metadata": {
        "colab": {
          "base_uri": "https://localhost:8080/"
        },
        "id": "6vplgP2vZq6-",
        "outputId": "beaefeda-2002-4444-8d16-fa47c7d92cfe"
      },
      "source": [
        "dfTeste = pd.DataFrame(X, columns=df.columns.drop('sócio'))\n",
        "dfTeste['sócio'] = y\n",
        "print(dfTeste)"
      ],
      "execution_count": null,
      "outputs": [
        {
          "output_type": "stream",
          "text": [
            "    cargo_Analista  cargo_Diretor  cargo_Fundador  ...   salario     bonus  sócio\n",
            "0              0.0            0.0             0.0  ...  0.405299  0.000000      0\n",
            "1              0.0            0.0             0.0  ...  0.000000  0.229630      0\n",
            "2              0.0            0.0             0.0  ...  0.357752  0.229630      0\n",
            "3              0.0            0.0             0.0  ...  0.060467  0.044444      0\n",
            "4              0.0            0.0             0.0  ...  0.082903  0.037037      0\n",
            "5              1.0            0.0             0.0  ...  0.138995  0.111111      0\n",
            "6              0.0            1.0             0.0  ...  0.607359  0.333333      1\n",
            "7              0.0            0.0             0.0  ...  0.915863  0.185185      1\n",
            "8              0.0            1.0             0.0  ...  0.439085  0.259259      1\n",
            "9              0.0            0.0             1.0  ...  1.000000  1.000000      1\n",
            "10             0.0            0.0             1.0  ...  0.775634  0.407407      1\n",
            "11             0.0            0.0             0.0  ...  0.326902  0.333333      1\n",
            "\n",
            "[12 rows x 9 columns]\n"
          ],
          "name": "stdout"
        }
      ]
    },
    {
      "cell_type": "code",
      "metadata": {
        "colab": {
          "base_uri": "https://localhost:8080/"
        },
        "id": "64P3LpdQaFkH",
        "outputId": "309ebe62-17f5-4440-ccba-6e2bb6d802c5"
      },
      "source": [
        "dfTeste['sócio'].value_counts()"
      ],
      "execution_count": null,
      "outputs": [
        {
          "output_type": "execute_result",
          "data": {
            "text/plain": [
              "1    6\n",
              "0    6\n",
              "Name: sócio, dtype: int64"
            ]
          },
          "metadata": {
            "tags": []
          },
          "execution_count": 98
        }
      ]
    },
    {
      "cell_type": "markdown",
      "metadata": {
        "id": "mi6DiBBW_dsK"
      },
      "source": [
        "##8) Salvando dataset processado"
      ]
    },
    {
      "cell_type": "code",
      "metadata": {
        "id": "SXmHNrKU_d5N"
      },
      "source": [
        "df.to_csv('./bases/fake_data_process.csv', index=False)"
      ],
      "execution_count": null,
      "outputs": []
    }
  ]
}