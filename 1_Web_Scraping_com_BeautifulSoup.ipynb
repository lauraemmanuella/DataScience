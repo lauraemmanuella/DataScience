{
  "nbformat": 4,
  "nbformat_minor": 0,
  "metadata": {
    "colab": {
      "name": "1-Web Scraping com BeautifulSoup.ipynb",
      "provenance": [],
      "collapsed_sections": [],
      "mount_file_id": "1m9CMwMXo_oZnp1ZY0Tho-1v9kKgZIJS4",
      "authorship_tag": "ABX9TyPhl7kRT1BcNXx1jFT84qMV",
      "include_colab_link": true
    },
    "kernelspec": {
      "name": "python3",
      "display_name": "Python 3"
    }
  },
  "cells": [
    {
      "cell_type": "markdown",
      "metadata": {
        "id": "view-in-github",
        "colab_type": "text"
      },
      "source": [
        "<a href=\"https://colab.research.google.com/github/lauraemmanuella/DataScience/blob/main/1_Web_Scraping_com_BeautifulSoup.ipynb\" target=\"_parent\"><img src=\"https://colab.research.google.com/assets/colab-badge.svg\" alt=\"Open In Colab\"/></a>"
      ]
    },
    {
      "cell_type": "markdown",
      "metadata": {
        "id": "MKmPmXIbUyvC"
      },
      "source": [
        "# O que é Web Scraping?\n",
        "\n",
        "**Coleta automatizada de dados na internet** \n",
        "\n",
        "> Web scraping é a prática de coletar dados por qualquer meio que não seja um programa interagindo com uma API (ou, obviamente, por um ser humano usando um navegador web). **Isso é comumente feito escrevendo um programa automatizado (bot) que consulta um servidor web, requisita dados (em geral, na forma de HTML e de outros arquivos que compõem as páginas web) e então faz parse (análise sintática) desses dados para extrair as informações necessárias.**\n",
        "\n",
        "*Mitchell, Ryan. Web Scraping com Python (p. 9). Novatec Editora. Edição do Kindle.*\n",
        "\n",
        "## Por que usar Web Scraping?\n",
        "\n",
        "> “Mas as web APIs não servem para coletar dados?”. As APIs podem ser incríveis se você encontrar uma que atenda aos seus propósitos. Elas são projetadas para fornecer um stream conveniente de dados bem formatados, de um programa de computador para outro. É possível encontrar uma API para vários tipos de dados que você queira usar, por exemplo, postagens do Twitter ou páginas da Wikipédia. Em geral, é preferível usar uma API (caso haja uma), em vez de implementar um bot para obter os mesmos dados. Contudo, talvez não haja uma API ou, quem sabe, ela não seja conveniente para seus propósitos.\n",
        "\n",
        "*Mitchell, Ryan. Web Scraping com Python (p. 10). Novatec Editora. Edição do Kindle.*\n",
        "\n",
        "## Passos gerais\n",
        "\n",
        "*   Obter dados html de um domínio\n",
        "*   Fazer parse desses dados em busca das informações desejadas\n",
        "*   Armazenar as informações desejadas\n",
        "*   Opcionalmente, passar para outra página e repetir o processo\n",
        "\n",
        "\n",
        "## Expressões regulares\n",
        "\n",
        "https://docs.python.org/pt-br/3.8/howto/regex.html\n",
        "\n",
        "Expressões Regulares identificam padrões de caracteres em um texto. Aqui no web scraping podem ser úteis para identificar uma parte do texto que precisamos recuperar.\n",
        "\n",
        "\n",
        "\n"
      ]
    },
    {
      "cell_type": "markdown",
      "metadata": {
        "id": "fVEh8UqgXtGp"
      },
      "source": [
        "# Bibliotecas necessárias"
      ]
    },
    {
      "cell_type": "code",
      "metadata": {
        "id": "SBNGkjgVgvjB"
      },
      "source": [
        "import pandas as pd\n",
        "import numpy as np\n",
        "\n",
        "import requests as rq\n",
        "from bs4 import BeautifulSoup\n",
        "import re"
      ],
      "execution_count": null,
      "outputs": []
    },
    {
      "cell_type": "markdown",
      "metadata": {
        "id": "z9fsz7WNKZB5"
      },
      "source": [
        "requests: https://docs.python-requests.org/pt_BR/latest/\n",
        "\n",
        "BeautifulSoup: https://beautiful-soup-4.readthedocs.io/en/latest/#quick-start\n",
        "\n",
        "re: https://docs.python.org/3/library/re.html"
      ]
    },
    {
      "cell_type": "markdown",
      "metadata": {
        "id": "HxJG67PTpTFx"
      },
      "source": [
        "# Coleta de dados no site Skoob\n",
        "\n",
        "Projeto original: https://github.com/vitorStein/livros-Skoob"
      ]
    },
    {
      "cell_type": "markdown",
      "metadata": {
        "id": "l12dyvHn1MwL"
      },
      "source": [
        "### Obtendo dados e salvando em um objeto BeautifulSoup"
      ]
    },
    {
      "cell_type": "code",
      "metadata": {
        "id": "wmU5VyTY07lp"
      },
      "source": [
        "url = 'https://www.skoob.com.br/o-fantastico-mundo-da-filosofia-12004442ed11994099.html'\n",
        "response = rq.get(url) #Obter dados html da url\n",
        "pagina_html = BeautifulSoup(response.text,'html.parser') #Cria objeto BeautifulSoup com analisador de HTML (parser)"
      ],
      "execution_count": null,
      "outputs": []
    },
    {
      "cell_type": "code",
      "metadata": {
        "id": "wuOp9z_z1Dz-"
      },
      "source": [
        "print(pagina_html)"
      ],
      "execution_count": null,
      "outputs": []
    },
    {
      "cell_type": "markdown",
      "metadata": {
        "id": "JIlNncIS1-Nn"
      },
      "source": [
        "> Com o objeto BeautifulSoup, podemos encontrar elementos específicos no código, como o head (pagina_html.head) ou o body (pagina_html.body)"
      ]
    },
    {
      "cell_type": "code",
      "metadata": {
        "colab": {
          "base_uri": "https://localhost:8080/"
        },
        "id": "9E-70YRe1iNE",
        "outputId": "43f8e8b3-72c3-4880-8b5b-5e07db75f87b"
      },
      "source": [
        "pagina_html.head"
      ],
      "execution_count": null,
      "outputs": [
        {
          "output_type": "execute_result",
          "data": {
            "text/plain": [
              "<head prefix=\"og: http://ogp.me/ns# fb: http://ogp.me/ns/fb# books: http://ogp.me/ns/books#\">\n",
              "<meta content=\"text/html; charset=utf-8\" http-equiv=\"Content-Type\"/> <title>O Fantástico mundo da filosofia</title>\n",
              "<meta content=\"Fantástico,mundo,filosofia,Michael,Patton,Kevin,Cannon,Excelsior\" name=\"keywords\"/><meta/><meta content=\"A Filosofia como você nunca viu!!! Heráclito, pensador grego espirituoso, nos guia em um passeio de canoa enquanto navegamos...(O Fantástico mundo da filosofia)\" name=\"description\"/><meta content=\"https://www.skoob.com.br/o-fantastico-mundo-da-filosofia-12004442ed11994099\" property=\"og:url\"/><meta content=\"O Fantástico mundo da filosofia\" property=\"og:title\"/><meta content=\"books.book\" property=\"og:type\"/><meta content=\"https://cache.skoob.com.br/local/images//mbp29XwjiEXXMyNYG9oQy5CX9r4=/200x/center/top/smart/filters:format(jpeg)/https://skoob.s3.amazonaws.com/livros/12004442/O_FANTASTICO_MUNDO_DA_FILOSOFI_163516974712004442SK-V11635169748B.jpg\" property=\"og:image\"/><meta content=\"image/jpeg\" property=\"og:image:type\"/><meta content=\"960\" property=\"og:image:width\"/><meta content=\"1380\" property=\"og:image:height\"/><meta content=\"A Filosofia como você nunca viu!!! Heráclito, pensador grego espirituoso, nos guia em um passeio de canoa enquanto navegamos...\" property=\"og:description\"/><meta content=\"252371588132802\" property=\"fb:app_id\"/><meta content=\"9786580448371\" property=\"books:isbn\"/><meta content=\"Skoob\" property=\"og:site_name\"/><meta content=\"O Fantástico mundo da filosofia\" property=\"twitter:card\"/><meta content=\"https://www.skoob.com.br/o-fantastico-mundo-da-filosofia-12004442ed11994099\" property=\"twitter:site\"/><meta content=\"O Fantástico mundo da filosofia\" property=\"twitter:title\"/><meta content=\"A Filosofia como você nunca viu!!! Heráclito, pensador grego espirituoso, nos guia em um passeio de canoa enquanto navegamos...\" property=\"twitter:description\"/><meta content=\"@skoobnews\" property=\"twitter:created\"/><meta content=\"https://cache.skoob.com.br/local/images//mbp29XwjiEXXMyNYG9oQy5CX9r4=/200x/center/top/smart/filters:format(jpeg)/https://skoob.s3.amazonaws.com/livros/12004442/O_FANTASTICO_MUNDO_DA_FILOSOFI_163516974712004442SK-V11635169748B.jpg\" property=\"twitter:image:src\"/><meta content=\"https://www.skoob.com.br\" property=\"twitter:domain\"/> <meta content=\"pt-br\" name=\"language\"/>\n",
              "<meta content=\"h_F9-djAws40JfpX_W4juzsPjd9YZ2v-s0YvOG-D388\" name=\"google-site-verification\"/>\n",
              "<meta content=\"width=device-width, initial-scale=1.0\" name=\"viewport\"/>\n",
              "<meta content=\"app-id=904670263\" name=\"apple-itunes-app\"/>\n",
              "<meta content=\"app-id=com.gaudium.skoob\" name=\"google-play-app\"/>\n",
              "<meta content=\"none\" name=\"msapplication-config\"/>\n",
              "<meta content=\"22240835\" name=\"lomadee-verification\"/>\n",
              "<script type=\"application/ld+json\">{\"@context\":\"http://schema.org\",\"@type\":\"WebPage\",\"mainEntity\":{\"@type\":\"Book\",\"name\":\"O Fant\\u00e1stico mundo da filosofia\",\"isbn\":\"9786580448371\",\"inLanguage\":\"Portuguese\",\"numberOfPages\":\"176\",\"publisher\":\"Excelsior\",\"image\":\"https://cache.skoob.com.br/local/images//2X4kEYZ63IoVC63Uw9nXN73spKU=/300x0/center/top/filters:format(jpeg)/https://skoob.s3.amazonaws.com/livros/12004442/O_FANTASTICO_MUNDO_DA_FILOSOFI_163516974712004442SK-V11635169748B.jpg\",\"aggregateRating\":{\"@type\":\"AggregateRating\",\"ratingValue\":\"4\",\"ratingCount\":\"2\",\"reviewCount\":0}}}</script>\n",
              "<script src=\"https://cache.skoob.com.br/local/skoob/js/angularjs/base.min.js?1618063689\" type=\"text/javascript\"></script><script src=\"https://cache.skoob.com.br/local/skoob/js/angularjs/main.min.js?1618063688\" type=\"text/javascript\"></script>\n",
              "<link href=\"https://cache.skoob.com.br/local/skoob/css/ver2/main.min.css?1618065956\" rel=\"stylesheet\" type=\"text/css\"/><link href=\"https://cache.skoob.com.br/local/skoob/css/dist-final-2019/geral.min.css?1618066149\" rel=\"stylesheet\" type=\"text/css\"/><link href=\"https://cache.skoob.com.br/local/images//mbp29XwjiEXXMyNYG9oQy5CX9r4=/200x/center/top/smart/filters:format(jpeg)/https://skoob.s3.amazonaws.com/livros/12004442/O_FANTASTICO_MUNDO_DA_FILOSOFI_163516974712004442SK-V11635169748B.jpg\" rel=\"image_src\" type=\"text/css\"/>\n",
              "<link href=\"https://www.skoob.com.br/o-fantastico-mundo-da-filosofia-12004442ed11994099.html\" rel=\"canonical\"/>\n",
              "<link href=\"https://cache.skoob.com.br/local/skoob/css/dist-final-2019/livro/edicaoversao.min.css?1618066149\" rel=\"stylesheet\" type=\"text/css\"/>\n",
              "</head>"
            ]
          },
          "metadata": {},
          "execution_count": 93
        }
      ]
    },
    {
      "cell_type": "code",
      "metadata": {
        "id": "O5Dgz1Jx1MB0"
      },
      "source": [
        "pagina_html.body"
      ],
      "execution_count": null,
      "outputs": []
    },
    {
      "cell_type": "markdown",
      "metadata": {
        "id": "wZe2R6-g2LYH"
      },
      "source": [
        "> Para identificar melhor o que você precisa, você pode inspecionar o código no navegador para encontrar a localização dos itens e nomes de ids. Para isso, pode apertar a tecla F12 na página de interesse.\n",
        "\n",
        "> A forma normalmente usada para recuperar os elementos desejados é utilizar as funções de busca: **find() e find_all()**. find() é usada quando queremos recuperar apenas uma ocorrência da tag (a primeira encontrada será retornada). Já find_all()vai buscar todas as ocorrências do elemento procurado.\n",
        "\n",
        "> Por exemplo, o **pagina_html.a**, assim como o **pagina_html.find('a')**, encontra a primeira tag ‘a’; já o **pagina_html.find_all('a')** retorna uma lista com todas essas tags.\n",
        "\n",
        "> Observe que o elemento retornado pelo find é do tipo Tag, o que permite que façamos novos find() ou find_all() a partir dele. Já o elemento retornado pelo find_all é um ResultSet, que permite que o usemos como uma lista."
      ]
    },
    {
      "cell_type": "code",
      "metadata": {
        "colab": {
          "base_uri": "https://localhost:8080/"
        },
        "id": "9_jnvqXbJ-wE",
        "outputId": "5940cdb2-3933-4bf8-ef5c-ff690658a9d3"
      },
      "source": [
        "div_lateral = pagina_html.find('div', {'id': 'pg-livro-menu-principal-container'})\n",
        "print(type(div_lateral))\n",
        "print(div_lateral)\n"
      ],
      "execution_count": null,
      "outputs": [
        {
          "output_type": "stream",
          "name": "stdout",
          "text": [
            "<class 'bs4.element.Tag'>\n",
            "<div data-ng-controller=\"shelf\" id=\"pg-livro-menu-principal-container\">\n",
            "<div><a class=\"capa-link-item\" href=\"/o-fantastico-mundo-da-filosofia-12004442ed11994099.html\" title=\"O Fantástico mundo da filosofia\"><img alt=\"O Fantástico mundo da filosofia\" class=\"cpimg\" itemprop=\"image\" src=\"https://cache.skoob.com.br/local/images//mbp29XwjiEXXMyNYG9oQy5CX9r4=/200x/center/top/smart/filters:format(jpeg)/https://skoob.s3.amazonaws.com/livros/12004442/O_FANTASTICO_MUNDO_DA_FILOSOFI_163516974712004442SK-V11635169748B.jpg\" title=\"O Fantástico mundo da filosofia\"/></a></div><br clear=\"both\"/>\n",
            "<strong class=\"sidebar-titulo\">O Fantástico mundo da filosofia</strong>\n",
            "<i class=\"sidebar-subtitulo\">Michael F. Patton e Kevin Cannon</i>\n",
            "<div class=\"pg-livro-bt-compra\"> <div class=\"sidebar-buy\" data-ng-controller=\"ofertaCtrl\" style=\"font-size:13px; border:none; width:180px;\">\n",
            "<div data-ng-init=\"checkPrices('9786580448371')\">\n",
            "<div data-ng-cloak=\"\" data-ng-if=\"preco\">\n",
            "<span><i class=\"icon-cart\" style=\"font-size: 14px; margin-right: 10px;\"></i>\n",
            "<a data-ng-click=\"open(11994099)\" href=\"javascript:{}\">\n",
            "R$ <span data-ng-bind=\"preco\"></span>\n",
            "</a>\n",
            "</span>\n",
            "</div>\n",
            "<div data-ng-cloak=\"\" data-ng-if=\"preco_max\">\n",
            "<div data-ng-cloak=\"\" data-ng-if=\"!preco\">\n",
            "<span><i class=\"icon-cart\" style=\"font-size: 14px; margin-right: 10px;\"></i>\n",
            "<a data-ng-click=\"open(11994099)\" href=\"javascript:{}\">R$ <span data-ng-bind=\"preco_min\"></span></a>\n",
            "até\n",
            "<a data-ng-click=\"open(11994099)\" href=\"javascript:{}\">R$ <span data-ng-bind=\"preco_max\"></span></a>\n",
            "</span>\n",
            "</div>\n",
            "</div>\n",
            "<div data-ng-cloak=\"\" data-ng-if=\"preco_null\">\n",
            "<span style=\"font-size: 11px; color:#B2B2B2;\"><i class=\"icon-cart\" style=\"font-size: 14px; margin-right: 10px;\"></i>\n",
            "Nenhuma oferta encontrada\n",
            "</span>\n",
            "</div>\n",
            "</div>\n",
            "</div>\n",
            "</div>\n",
            "<div class=\"sidebar-desc\">\n",
            "ISBN-13: <span>9786580448371</span><br/>ISBN-10: <span>6580448377</span><br/>\n",
            "Ano: 2021 / Páginas: 176<br/> Idioma: português <br/> Editora: <a href=\"/editora/136-excelsior\">Excelsior</a><br/> </div>\n",
            "<hr/>\n",
            "<div class=\"star-big\">\n",
            "<star-rating boxcounter=\"true\" fixed=\"true\" id=\"11994099\" rate=\"0\" size=\"big\" type=\"livro\"></star-rating>\n",
            "</div>\n",
            "<div class=\"box-bt_adicionar-grande\">\n",
            "<button-shelf bt-mais=\"0\" bt-size=\"normal\" check=\"no\" edition-id=\"0\" status=\"0\" user-book=\"0\" user-logged-id=\"0\"></button-shelf>\n",
            "</div>\n",
            "<div class=\"box-etiquetas-icones-grandes\">\n",
            "<div id=\"pg-livro-etiquetas\">\n",
            "<a class=\"etiqueta-button\" data-original-title=\"Favorito\" data-placement=\"top\" href=\"/login/facebook/\" rel=\"tooltip\">\n",
            "<i class=\"icon-favorito\" style=\"font-size: 19px; color:#ccc; margin-right: 8px;\"></i>\n",
            "</a>\n",
            "<a class=\"etiqueta-button\" data-original-title=\"Desejado\" data-placement=\"top\" href=\"/login/facebook/\" rel=\"tooltip\">\n",
            "<i class=\"icon-desejado\" style=\"font-size: 19px; color:#ccc; margin-right: 8px;\"></i>\n",
            "</a>\n",
            "<a class=\"etiqueta-button\" data-original-title=\"Tenho\" data-placement=\"top\" href=\"/login/facebook/\" rel=\"tooltip\">\n",
            "<i class=\"icon-tenho\" style=\"font-size: 19px; color:#ccc; margin-right: 8px;\"></i>\n",
            "</a>\n",
            "<a class=\"etiqueta-button\" data-original-title=\"Emprestei\" data-placement=\"top\" href=\"/login/facebook/\" rel=\"tooltip\">\n",
            "<i class=\"icon-home\" style=\"font-size: 19px; color:#ccc; margin-right:8px;\"></i>\n",
            "</a>\n",
            "<a class=\"etiqueta-button\" data-original-title=\"Troco\" data-placement=\"top\" href=\"/login/facebook/\" rel=\"tooltip\">\n",
            "<i class=\"icon-troca\" style=\"font-size: 19px; color:#ccc; margin-right: 8px;\"></i>\n",
            "</a>\n",
            "<a class=\"etiqueta-button\" data-original-title=\"Meta de Leitura\" data-placement=\"top\" href=\"/login/facebook/\" rel=\"tooltip\">\n",
            "<i class=\"icon-meta\" style=\"font-size: 19px; color:#ccc; margin-right: 8px;\"></i>\n",
            "</a>\n",
            "<br clear=\"all\"/>\n",
            "</div>\n",
            "</div>\n",
            "<hr class=\"pg-livro-hr\"/>\n",
            "<style>\n",
            "        .box-share-container {border:none;  height: 25px; padding-bottom: 5px; }\n",
            "        .box-share-icon {margin-top:2px; float:left; border:0px solid blue; margin-right: 8px; }\n",
            "        .box-share-title {margin-top:2px; float:left; border:0px solid blue; margin-right: 8px; font-size: 11px; text-align: left; border:0px solid red; padding-top: 5px; color:#666666; }\n",
            "</style>\n",
            "<div class=\"box-share-container\">\n",
            "<div class=\"box-share-title\">\n",
            "<span>Compartilhe</span>\n",
            "</div>\n",
            "<div class=\"box-share-icon\">\n",
            "<a href=\"https://www.facebook.com/sharer/sharer.php?u=https://www.skoob.com.br/o-fantastico-mundo-da-filosofia-12004442ed11994099\" onclick=\"javascript:window.open(this.href, '', 'menubar=no,toolbar=no,resizable=yes,scrollbars=yes,height=500,width=500');return false;\">\n",
            "<img alt=\"Facebook compartilhar\" src=\"/files/img/icones/facebook-share.png\" style=\"height: 25px; width: 25px;\" title=\"Facebook compartilhar\">\n",
            "</img></a>\n",
            "</div>\n",
            "<div class=\"box-share-icon\">\n",
            "<a href=\"https://twitter.com/intent/tweet?status=https://www.skoob.com.br/o-fantastico-mundo-da-filosofia-12004442ed11994099\" onclick=\"javascript:window.open(this.href, '', 'menubar=no,toolbar=no,resizable=yes,scrollbars=yes,height=500,width=500');return false;\">\n",
            "<img alt=\"Twitter compartilhar\" src=\"/files/img/icones/twitter-share.png\" style=\"height: 25px; width: 25px;\" title=\"Twitter compartilhar\">\n",
            "</img></a>\n",
            "</div>\n",
            "</div>\n",
            "<hr/>\n",
            "<br clear=\"all\">\n",
            "<ul id=\"ul-menu-vertical-badges\" style=\"margin-top:-18px;\">\n",
            "<li><a href=\"/livro/12004442ED11994099-o-fantastico-mundo-da-filosofia\">Sinopse</a><br clear=\"all\"/></li>\n",
            "<li><a href=\"/livro/edicoes/12004442/edicao:11994099\">Edições</a><span class=\"badge badge-default\">1</span><br clear=\"all\"/></li>\n",
            "<li><a href=\"/livro/video/o-fantastico-mundo-da-filosofia/12004442/edicao:11994099\">Vídeos</a><span class=\"badge badge-default\">0</span><br clear=\"all\"/></li>\n",
            "<li><a href=\"/livro/grupos/12004442/edicao:11994099\">Grupos</a><span class=\"badge badge-default\">0</span><br clear=\"all\"/></li>\n",
            "<li><a href=\"/livro/resenhas/12004442/edicao:11994099\">Resenhas</a><span class=\"badge badge-default\">0</span><br clear=\"all\"/></li>\n",
            "<li><a href=\"/livro/leitores/leram/12004442/edicao:11994099\">Leitores</a><span class=\"badge badge-default\">250</span><br clear=\"all\"/></li>\n",
            "<li><a href=\"/livro/similares/12004442/edicao:11994099\">Similares</a><span class=\"badge badge-default\">59</span><br clear=\"all\"/></li>\n",
            "<li><a href=\"/livro/ofertas/o-fantastico-mundo-da-filosofia/edicao:11994099\">Ofertas</a><br clear=\"all\"/></li>\n",
            "<li><a href=\"/livro/pdf/o-fantastico-mundo-da-filosofia/livro:12004442/edicao:11994099\">Leia online (PDF)</a><br clear=\"all\"/></li>\n",
            "</ul>\n",
            "</br></div>\n"
          ]
        }
      ]
    },
    {
      "cell_type": "code",
      "metadata": {
        "colab": {
          "base_uri": "https://localhost:8080/"
        },
        "id": "rvgtwSyvNg8P",
        "outputId": "b5af3128-9796-4a89-8e61-da458e913995"
      },
      "source": [
        "div_menor = div_lateral.find('div', {'class': 'sidebar-desc'})\n",
        "isbns = div_menor.findAll('span')\n",
        "\n",
        "print(type(div_menor))\n",
        "print(type(isbns))\n",
        "\n",
        "print(isbns[0])"
      ],
      "execution_count": null,
      "outputs": [
        {
          "output_type": "stream",
          "name": "stdout",
          "text": [
            "<class 'bs4.element.Tag'>\n",
            "<class 'bs4.element.ResultSet'>\n",
            "<span>9786580448371</span>\n"
          ]
        }
      ]
    },
    {
      "cell_type": "markdown",
      "metadata": {
        "id": "zO1QbY-rQ4ew"
      },
      "source": [
        "> Podemos usar o método search da biblioteca re para buscar ocorrências específicas dentro de uma string\n",
        "\n",
        "https://docs.python.org/3/howto/regex.html#regex-howto"
      ]
    },
    {
      "cell_type": "code",
      "metadata": {
        "colab": {
          "base_uri": "https://localhost:8080/"
        },
        "id": "Hlk4VZ3EQH4c",
        "outputId": "a9f4fbb9-698e-45c7-f415-7661184ba0fe"
      },
      "source": [
        "print( re.search('[0-9]+', str(isbns[0])) ) #Varre toda a string, procurando qualquer local onde esta re tem correspondência\n",
        "print( re.search('[0-9]+', str(isbns[0])).group() ) #Retorna a string que corresponde com a re"
      ],
      "execution_count": null,
      "outputs": [
        {
          "output_type": "stream",
          "name": "stdout",
          "text": [
            "<re.Match object; span=(6, 19), match='9786580448371'>\n",
            "9786580448371\n"
          ]
        }
      ]
    },
    {
      "cell_type": "code",
      "metadata": {
        "colab": {
          "base_uri": "https://localhost:8080/"
        },
        "id": "AQnP69t1RFOw",
        "outputId": "ce4b5ca0-26d8-4f00-8584-bc313e68d381"
      },
      "source": [
        "menuazul = pagina_html.find('div', {'id': 'pg-livro-menu-azul'}) \n",
        "dados = menuazul.find_all('a')\n",
        "\n",
        "print(dados)"
      ],
      "execution_count": null,
      "outputs": [
        {
          "output_type": "stream",
          "name": "stdout",
          "text": [
            "[<a class=\"link_11_off l_icones sk-cor-branco\" href=\"/livro/leitores/favoritos/12004442/edicao:11994099\">Favoritos (2)</a>, <a class=\"link_11_off l_icones sk-cor-branco\" href=\"/livro/leitores/desejam/12004442/edicao:11994099\">Desejados (14)</a>, <a class=\"link_11_off l_icones sk-cor-branco\" href=\"/livro/leitores/trocam/12004442/edicao:11994099\">Trocam (2)</a>, <a class=\"link_11_off l_icones sk-cor-branco\" href=\"/livro/leitores/avaliaram/12004442/edicao:11994099\">Avaliaram (2)</a>]\n"
          ]
        }
      ]
    },
    {
      "cell_type": "markdown",
      "metadata": {
        "id": "ajvJCA9EWu57"
      },
      "source": [
        "> Se você deseja apenas o texto legível dentro de um documento ou tag, você pode usar o método get_text()"
      ]
    },
    {
      "cell_type": "code",
      "metadata": {
        "colab": {
          "base_uri": "https://localhost:8080/"
        },
        "id": "yNghY0rzRe4p",
        "outputId": "b5535a9c-2c3e-4613-9baa-2051a6879285"
      },
      "source": [
        "print(dados[0].get_text())"
      ],
      "execution_count": null,
      "outputs": [
        {
          "output_type": "stream",
          "name": "stdout",
          "text": [
            "Favoritos (2)\n"
          ]
        }
      ]
    },
    {
      "cell_type": "code",
      "metadata": {
        "colab": {
          "base_uri": "https://localhost:8080/"
        },
        "id": "06iI3yF4Sdzc",
        "outputId": "1701e618-075a-4fab-b341-723761fb342d"
      },
      "source": [
        "print(re.search('[0-9]+', dados[0].get_text()))\n",
        "print(re.search('[0-9]+', dados[0].get_text()).group())"
      ],
      "execution_count": null,
      "outputs": [
        {
          "output_type": "stream",
          "name": "stdout",
          "text": [
            "<re.Match object; span=(11, 12), match='2'>\n",
            "2\n"
          ]
        }
      ]
    },
    {
      "cell_type": "markdown",
      "metadata": {
        "id": "WRAuYvNSP2ao"
      },
      "source": [
        "## Coleta de dados em 1 página do Skoob"
      ]
    },
    {
      "cell_type": "code",
      "metadata": {
        "id": "zL4wGBtCM8WB"
      },
      "source": [
        "url = 'https://www.skoob.com.br/o-fantastico-mundo-da-filosofia-12004442ed11994099.html'\n",
        "\n",
        "livro = {} #dicionário que armazenará os dados desejados nessa pagina\n",
        "\n",
        "try:\n",
        "  response = rq.get(url) #Obter dados html da url\n",
        "  pagina_html = BeautifulSoup(response.text,'html.parser') #Cria objeto BeautifulSoup com analisador de HTML (parser)\n",
        "\n",
        "  div_lateral = pagina_html.find('div', {'id': 'pg-livro-menu-principal-container'})\n",
        "  livro['titulo'] = div_lateral.find('strong').get_text()\n",
        "  livro['autores'] = div_lateral.find('i').get_text()\n",
        "  \n",
        "  div_menor = div_lateral.find('div', {'class': 'sidebar-desc'})\n",
        "  isbns = div_menor.findAll('span')\n",
        "  \n",
        "  livro['ISBN_13'] = re.search('[0-9]+', str(isbns[0])).group()\n",
        "  livro['ISBN_10'] = re.search('[0-9]+', str(isbns[1])).group()\n",
        "\n",
        "  texto = div_menor.get_text()\n",
        "  livro['ano'] = texto.split('Ano: ')[1].split(' ')[0]\n",
        "  livro['paginas'] = texto.split('Páginas: ')[1].split(' ')[0]\n",
        "  livro['idioma'] = texto.split('Idioma: ')[1].split(' ')[0]\n",
        "  livro['editora'] = texto.split('Editora: ')[1].split(' ')[0]\n",
        "  \n",
        "  div_superior = pagina_html.find('div', {'id': 'livro-perfil-status'})\n",
        "  livro['rating'] = div_superior.find('span', {'class': 'rating'}).get_text()\n",
        "\n",
        "  info = div_superior.findAll('a', {'class': 'text_blue'})\n",
        "  livro['resenha'] = info[0].get_text()\n",
        "  livro['abandonos']  = info[1].get_text()\n",
        "  livro['relendo']  = info[2].get_text()\n",
        "  livro['querem_ler'] = info[3].get_text()\n",
        "  livro['lendo'] = info[4].get_text()\n",
        "  livro['leram'] = info[5].get_text()\n",
        "\n",
        "  menuazul = pagina_html.find('div', {'id': 'pg-livro-menu-azul'}) \n",
        "  dados = menuazul.find_all('a')\n",
        "\n",
        "  livro['favoritos'] = re.search('[0-9]+', dados[0].get_text()).group()\n",
        "  livro['desejados'] = re.search('[0-9]+', dados[1].get_text()).group()\n",
        "  livro['trocam'] = re.search('[0-9]+', dados[2].get_text()).group()\n",
        "  livro['avaliaram'] = re.search('[0-9]+', dados[3].get_text()).group()\n",
        "\n",
        "  info = pagina_html.find('p', {'itemprop': 'description'})\n",
        "  livro['descricao'] = info.get_text().replace('\\n', '')\n",
        "\n",
        "  info = pagina_html.find('span', {'class': 'pg-livro-generos'})\n",
        "  livro['genero'] = info.get_text()\n",
        "\n",
        "  info = pagina_html.find('span', {'class': 'pg-livro-icone-male-label'})\n",
        "  livro['male'] = int(info.get_text().replace('%', ''))\n",
        "\n",
        "  info = pagina_html.find('span', {'class': 'pg-livro-icone-female-label'})\n",
        "  livro['female'] = int(info.get_text().replace('%', ''))\n",
        "\n",
        "except Exception as e:\n",
        "  print(e)"
      ],
      "execution_count": null,
      "outputs": []
    },
    {
      "cell_type": "code",
      "metadata": {
        "colab": {
          "base_uri": "https://localhost:8080/"
        },
        "id": "4HVt5jhFaZyE",
        "outputId": "12ff8bd3-f60d-46f0-b133-dc03bcb333a0"
      },
      "source": [
        "print(texto)"
      ],
      "execution_count": null,
      "outputs": [
        {
          "output_type": "stream",
          "name": "stdout",
          "text": [
            "\n",
            "ISBN-13: 9786580448371ISBN-10: 6580448377\n",
            "Ano: 2021 / Páginas: 176 Idioma: português  Editora: Excelsior \n"
          ]
        }
      ]
    },
    {
      "cell_type": "code",
      "metadata": {
        "colab": {
          "base_uri": "https://localhost:8080/"
        },
        "id": "_VjvOCH0Zby8",
        "outputId": "0bb273e9-1905-4986-fe9e-95f626064da8"
      },
      "source": [
        "texto.split('Ano: ')"
      ],
      "execution_count": null,
      "outputs": [
        {
          "output_type": "execute_result",
          "data": {
            "text/plain": [
              "['\\nISBN-13: 9786580448371ISBN-10: 6580448377\\n',\n",
              " '2021 / Páginas: 176 Idioma: português  Editora: Excelsior ']"
            ]
          },
          "metadata": {},
          "execution_count": 51
        }
      ]
    },
    {
      "cell_type": "code",
      "metadata": {
        "colab": {
          "base_uri": "https://localhost:8080/",
          "height": 35
        },
        "id": "nXxX9fglZm88",
        "outputId": "f3cdb207-ae05-4e8d-cdcf-b6a50a4d94d3"
      },
      "source": [
        "texto.split('Ano: ')[1]"
      ],
      "execution_count": null,
      "outputs": [
        {
          "output_type": "execute_result",
          "data": {
            "application/vnd.google.colaboratory.intrinsic+json": {
              "type": "string"
            },
            "text/plain": [
              "'2021 / Páginas: 176 Idioma: português  Editora: Excelsior '"
            ]
          },
          "metadata": {},
          "execution_count": 52
        }
      ]
    },
    {
      "cell_type": "code",
      "metadata": {
        "colab": {
          "base_uri": "https://localhost:8080/",
          "height": 35
        },
        "id": "Xn75drFwZr3o",
        "outputId": "27536597-b573-4886-c9a8-de9774d25e82"
      },
      "source": [
        "texto.split('Ano: ')[1].split(' ')[0]"
      ],
      "execution_count": null,
      "outputs": [
        {
          "output_type": "execute_result",
          "data": {
            "application/vnd.google.colaboratory.intrinsic+json": {
              "type": "string"
            },
            "text/plain": [
              "'2021'"
            ]
          },
          "metadata": {},
          "execution_count": 53
        }
      ]
    },
    {
      "cell_type": "code",
      "metadata": {
        "colab": {
          "base_uri": "https://localhost:8080/"
        },
        "id": "lNKG2vQzkSlH",
        "outputId": "945c6009-b7ca-4533-9fb2-285bbf5854ec"
      },
      "source": [
        "livro"
      ],
      "execution_count": null,
      "outputs": [
        {
          "output_type": "execute_result",
          "data": {
            "text/plain": [
              "{'ISBN_10': '6580448377',\n",
              " 'ISBN_13': '9786580448371',\n",
              " 'abandonos': '0',\n",
              " 'ano': '2021',\n",
              " 'autores': 'Michael F. Patton e Kevin Cannon',\n",
              " 'avaliaram': '2',\n",
              " 'descricao': 'A Filosofia como você nunca viu!!! Heráclito, pensador grego espirituoso, nos guia em um passeio de canoa enquanto navegamos através dos grandes debates do pensamento filosófico. Ao seguirmos nosso caminho pelo rio sinuoso da Filosofia, conhecemos os pré-socráticos, primeiros a questionar a mitologia e a refletir sobre o mundo ao redor; além disso, encontramos as disciplinas da lógica, da percepção e da epistemologia; encaramos o problema central do livre-arbítrio, e testemunhamos discussões históricas sobre a existência de um Deus. Pelo caminho, pensadores famosos como René Descartes e Immanuel Kant expõem suas obras em conversas claras e descontraídas. A prosa de Patton, combinada com a arte preciosa de Cannon, torna divertida a busca pelas verdades fundamentais, concedendo o amor pela sabedoria a qualquer pessoa que deseje pegar um remo e se juntar à viagem. Elogios à obra: \\x93Se esse não for o ideal platônico de uma graphic novel sobre Filosofia, não sei mais o que pode ser. O fantástico mundo da Filosofia de Michael F. Patton e Kevin Cannon é maravilhosa, e esse ponto é provavelmente o único sobre o qual todos os filósofos apresentados neste livro concordariam.\\x94 \\x96 Jim Ottaviani, autor de The Imitation Game, Feynman e Primates \\x93Michael F. Patton e Kevin Cannon conseguiram uma proeza: criaram uma rigorosa introdução à Filosofia em forma de história em quadrinhos. Nesses tempos de ataques ideológicos, econômicos e políticos contra a educação, é essencial acender a chama do amor pelo aprendizado e pela curiosidade nas pessoas \\x96 tanto nas mais velhas quanto nas mais jovens. Com humor consistente, ritmo maravilhoso e ilustrações brilhantes, Patton e Cannon apresentam aos leitores explicações simples, embora precisas, das ideias básicas de várias figuras canônicas da história da Filosofia, conectam essas ideias a outras disciplinas e a todo instante apresentam a quem lê os grandes diálogos da tradição intelectual dita ocidental.\\x94 \\x96 Mark Lance, professor de Filosofia e professor de Justiça e Paz na Universidade de Georgetown (EUA). \\x93O fantástico mundo da Filosofia é inteligente, espirituoso e atualizado. Divertindo sem simplificar demais, Patton e Cannon dão vida ao mundo da Filosofia. Para aqueles ainda não expostos aos prazeres da Filosofia, esse é um ótimo ponto de partida.\\x94 \\x96 Todd May, Professor de Humanidades na Universidade Clemson (EUA)Filosofia / Literatura Estrangeira / Não-ficção ',\n",
              " 'desejados': '14',\n",
              " 'editora': 'Excelsior',\n",
              " 'favoritos': '2',\n",
              " 'female': 76,\n",
              " 'genero': 'Filosofia / Literatura Estrangeira / Não-ficção ',\n",
              " 'idioma': 'português',\n",
              " 'lendo': '6',\n",
              " 'leram': '4',\n",
              " 'male': 24,\n",
              " 'paginas': '176',\n",
              " 'querem_ler': '192',\n",
              " 'rating': '3.5',\n",
              " 'relendo': '0',\n",
              " 'resenha': '0',\n",
              " 'titulo': 'O Fantástico mundo da filosofia',\n",
              " 'trocam': '2'}"
            ]
          },
          "metadata": {},
          "execution_count": 132
        }
      ]
    },
    {
      "cell_type": "markdown",
      "metadata": {
        "id": "IeVWRNmfXm9b"
      },
      "source": [
        "## Coleta de dados em várias páginas do Skoob"
      ]
    },
    {
      "cell_type": "code",
      "metadata": {
        "id": "lFy6LQ1VYWc_"
      },
      "source": [
        "#monte o drive caso precise usar/salvar arquivos do seu drive\n",
        "from google.colab import drive\n",
        "drive.mount('/content/drive')"
      ],
      "execution_count": null,
      "outputs": []
    },
    {
      "cell_type": "code",
      "metadata": {
        "colab": {
          "base_uri": "https://localhost:8080/"
        },
        "id": "nQX8uLdfYXJZ",
        "outputId": "4bbf728e-9ae2-4c5f-988f-666fdfc1c85a"
      },
      "source": [
        "#mude o ponto de execução para outro diretório, caso deseje\n",
        "%cd /content/drive/MyDrive/Colab Notebooks/DataScience"
      ],
      "execution_count": null,
      "outputs": [
        {
          "output_type": "stream",
          "name": "stdout",
          "text": [
            "/content/drive/MyDrive/Colab Notebooks/DataScience\n"
          ]
        }
      ]
    },
    {
      "cell_type": "code",
      "metadata": {
        "id": "mHNhlMSPX6eX"
      },
      "source": [
        "df_links = pd.read_csv('./livros_link.csv')"
      ],
      "execution_count": null,
      "outputs": []
    },
    {
      "cell_type": "code",
      "metadata": {
        "id": "lAyQMT-tXwuE"
      },
      "source": [
        "info_livros = [] #guardará todos os livros do df_links\n",
        "\n",
        "for index, row in df_links.iterrows(): #itera nas linhas do df_links\n",
        "  \n",
        "  if index  == 10: #fazendo apenas 10 livros\n",
        "    break\n",
        "  \n",
        "  livro = {} #guardará os dados de cada livro\n",
        "  \n",
        "  try:\n",
        "    # Request para a paǵina do livro\n",
        "    url = 'https://www.skoob.com.br{}'.format(df_links['link'][index]) #pega o link do df_links \n",
        "    response = rq.get(url)\n",
        "    pagina_html = BeautifulSoup(response.text,'html.parser')\n",
        "\n",
        "    div_lateral = pagina_html.find('div', {'id': 'pg-livro-menu-principal-container'})\n",
        "    livro['titulo'] = div_lateral.find('strong').get_text()\n",
        "    livro['autores'] = div_lateral.find('i').get_text()\n",
        "    \n",
        "    #Algumas páginas tem essa informação de modo diferente\n",
        "    if livro['autores'] == '':\n",
        "      div_autor = pagina_html.find('div', {'class': 'livro-autor-biografia'})\n",
        "      livro['autores'] = div_autor.find('h3').get_text()\n",
        "  \n",
        "    div_menor = div_lateral.find('div', {'class': 'sidebar-desc'})\n",
        "    isbns = div_menor.findAll('span')\n",
        "  \n",
        "    livro['ISBN_13'] = re.search('[0-9]+', str(isbns[0])).group()\n",
        "    livro['ISBN_10'] = re.search('[0-9]+', str(isbns[1])).group()\n",
        "\n",
        "    texto = div_menor.get_text()\n",
        "    livro['ano'] = texto.split('Ano: ')[1].split(' ')[0]\n",
        "    livro['paginas'] = texto.split('Páginas: ')[1].split(' ')[0]\n",
        "    livro['idioma'] = texto.split('Idioma: ')[1].split(' ')[0]\n",
        "    livro['editora'] = texto.split('Editora: ')[1].split(' ')[0]\n",
        "  \n",
        "    div_superior = pagina_html.find('div', {'id': 'livro-perfil-status'})\n",
        "    livro['rating'] = div_superior.find('span', {'class': 'rating'}).get_text()\n",
        "\n",
        "    info = div_superior.findAll('a', {'class': 'text_blue'})\n",
        "    livro['resenha'] = info[0].get_text()\n",
        "    livro['abandonos']  = info[1].get_text()\n",
        "    livro['relendo']  = info[2].get_text()\n",
        "    livro['querem_ler'] = info[3].get_text()\n",
        "    livro['lendo'] = info[4].get_text()\n",
        "    livro['leram'] = info[5].get_text()\n",
        "\n",
        "    menuazul = pagina_html.find('div', {'id': 'pg-livro-menu-azul'}) \n",
        "    dados = menuazul.find_all('a')\n",
        "\n",
        "    livro['favoritos'] = re.search('[0-9]+', dados[0].get_text()).group()\n",
        "    livro['desejados'] = re.search('[0-9]+', dados[1].get_text()).group()\n",
        "    livro['trocam'] = re.search('[0-9]+', dados[2].get_text()).group()\n",
        "    livro['avaliaram'] = re.search('[0-9]+', dados[3].get_text()).group()\n",
        "\n",
        "    info = pagina_html.find('p', {'itemprop': 'description'})\n",
        "    livro['descricao'] = info.get_text().replace('\\n', '')\n",
        "\n",
        "    info = pagina_html.find('span', {'class': 'pg-livro-generos'})\n",
        "    livro['genero'] = info.get_text()\n",
        "\n",
        "    info = pagina_html.find('span', {'class': 'pg-livro-icone-male-label'})\n",
        "    livro['male'] = int(info.get_text().replace('%', ''))\n",
        "\n",
        "    info = pagina_html.find('span', {'class': 'pg-livro-icone-female-label'})\n",
        "    livro['female'] = int(info.get_text().replace('%', ''))\n",
        "\n",
        "    info_livros.append(livro)  #coloca na lista de livros\n",
        "\n",
        "  except Exception as e:\n",
        "    print(e)"
      ],
      "execution_count": null,
      "outputs": []
    },
    {
      "cell_type": "code",
      "metadata": {
        "id": "qviLoLfxanpH"
      },
      "source": [
        "df_livros = pd.DataFrame(info_livros)"
      ],
      "execution_count": null,
      "outputs": []
    },
    {
      "cell_type": "code",
      "metadata": {
        "colab": {
          "base_uri": "https://localhost:8080/",
          "height": 1000
        },
        "id": "4g2EENDUcOQU",
        "outputId": "8d5abdcb-0b9d-4359-f95a-ba2ae8ee0409"
      },
      "source": [
        "df_livros "
      ],
      "execution_count": null,
      "outputs": [
        {
          "output_type": "execute_result",
          "data": {
            "text/html": [
              "<div>\n",
              "<style scoped>\n",
              "    .dataframe tbody tr th:only-of-type {\n",
              "        vertical-align: middle;\n",
              "    }\n",
              "\n",
              "    .dataframe tbody tr th {\n",
              "        vertical-align: top;\n",
              "    }\n",
              "\n",
              "    .dataframe thead th {\n",
              "        text-align: right;\n",
              "    }\n",
              "</style>\n",
              "<table border=\"1\" class=\"dataframe\">\n",
              "  <thead>\n",
              "    <tr style=\"text-align: right;\">\n",
              "      <th></th>\n",
              "      <th>titulo</th>\n",
              "      <th>autores</th>\n",
              "      <th>ISBN_13</th>\n",
              "      <th>ISBN_10</th>\n",
              "      <th>ano</th>\n",
              "      <th>paginas</th>\n",
              "      <th>idioma</th>\n",
              "      <th>editora</th>\n",
              "      <th>rating</th>\n",
              "      <th>resenha</th>\n",
              "      <th>abandonos</th>\n",
              "      <th>relendo</th>\n",
              "      <th>querem_ler</th>\n",
              "      <th>lendo</th>\n",
              "      <th>leram</th>\n",
              "      <th>favoritos</th>\n",
              "      <th>desejados</th>\n",
              "      <th>trocam</th>\n",
              "      <th>avaliaram</th>\n",
              "      <th>descricao</th>\n",
              "      <th>genero</th>\n",
              "      <th>male</th>\n",
              "      <th>female</th>\n",
              "    </tr>\n",
              "  </thead>\n",
              "  <tbody>\n",
              "    <tr>\n",
              "      <th>0</th>\n",
              "      <td>Orçamento sem falhas</td>\n",
              "      <td>Nath Finanças</td>\n",
              "      <td>9786555601565</td>\n",
              "      <td>6555601566</td>\n",
              "      <td>2021</td>\n",
              "      <td>128</td>\n",
              "      <td>português</td>\n",
              "      <td>Intrínseca</td>\n",
              "      <td>4.2</td>\n",
              "      <td>278</td>\n",
              "      <td>3</td>\n",
              "      <td>3</td>\n",
              "      <td>1.483</td>\n",
              "      <td>152</td>\n",
              "      <td>1.107</td>\n",
              "      <td>29</td>\n",
              "      <td>107</td>\n",
              "      <td>11</td>\n",
              "      <td>907</td>\n",
              "      <td>Quando o assunto é dinheiro, não dá para achar...</td>\n",
              "      <td>Economia, Finanças / Literatura Brasileira / N...</td>\n",
              "      <td>15</td>\n",
              "      <td>85</td>\n",
              "    </tr>\n",
              "    <tr>\n",
              "      <th>1</th>\n",
              "      <td>A Segunda Vida de Missy</td>\n",
              "      <td>Beth Morrey</td>\n",
              "      <td>9786555600834</td>\n",
              "      <td>6555600837</td>\n",
              "      <td>2021</td>\n",
              "      <td>304</td>\n",
              "      <td>português</td>\n",
              "      <td>Intrínseca</td>\n",
              "      <td>4.0</td>\n",
              "      <td>383</td>\n",
              "      <td>30</td>\n",
              "      <td>3</td>\n",
              "      <td>3.577</td>\n",
              "      <td>153</td>\n",
              "      <td>1.464</td>\n",
              "      <td>119</td>\n",
              "      <td>442</td>\n",
              "      <td>4</td>\n",
              "      <td>1</td>\n",
              "      <td>Romance de estreia traz protagonista incomum e...</td>\n",
              "      <td>Ficção / Literatura Estrangeira / Romance</td>\n",
              "      <td>7</td>\n",
              "      <td>93</td>\n",
              "    </tr>\n",
              "    <tr>\n",
              "      <th>2</th>\n",
              "      <td>As Sombras do Mal</td>\n",
              "      <td>Guillermo del Toro</td>\n",
              "      <td>9786555600117</td>\n",
              "      <td>655560011</td>\n",
              "      <td>2021</td>\n",
              "      <td>320</td>\n",
              "      <td>português</td>\n",
              "      <td>Intrínseca</td>\n",
              "      <td>3.8</td>\n",
              "      <td>36</td>\n",
              "      <td>1</td>\n",
              "      <td>0</td>\n",
              "      <td>787</td>\n",
              "      <td>12</td>\n",
              "      <td>141</td>\n",
              "      <td>7</td>\n",
              "      <td>114</td>\n",
              "      <td>1</td>\n",
              "      <td>131</td>\n",
              "      <td>Uma das mentes mais criativas e geniais da atu...</td>\n",
              "      <td>Ficção / Literatura Estrangeira / Romance poli...</td>\n",
              "      <td>29</td>\n",
              "      <td>71</td>\n",
              "    </tr>\n",
              "    <tr>\n",
              "      <th>3</th>\n",
              "      <td>Minha Sombria Vanessa</td>\n",
              "      <td>Kate Elizabeth Russell</td>\n",
              "      <td>9788551006276</td>\n",
              "      <td>8551006274</td>\n",
              "      <td>2020</td>\n",
              "      <td>432</td>\n",
              "      <td>português</td>\n",
              "      <td>Intrínseca</td>\n",
              "      <td>4.3</td>\n",
              "      <td>1.348</td>\n",
              "      <td>152</td>\n",
              "      <td>1</td>\n",
              "      <td>8.841</td>\n",
              "      <td>558</td>\n",
              "      <td>6.372</td>\n",
              "      <td>877</td>\n",
              "      <td>1</td>\n",
              "      <td>12</td>\n",
              "      <td>5</td>\n",
              "      <td>Elogiado por Gillian Flynn e considerado um do...</td>\n",
              "      <td>Drama / Ficção / Literatura Estrangeira / Susp...</td>\n",
              "      <td>7</td>\n",
              "      <td>93</td>\n",
              "    </tr>\n",
              "    <tr>\n",
              "      <th>4</th>\n",
              "      <td>Recursão</td>\n",
              "      <td>Blake Crouch</td>\n",
              "      <td>9788551005378</td>\n",
              "      <td>8551005375</td>\n",
              "      <td>2020</td>\n",
              "      <td>320</td>\n",
              "      <td>português</td>\n",
              "      <td>Intrínseca</td>\n",
              "      <td>4.4</td>\n",
              "      <td>1.406</td>\n",
              "      <td>66</td>\n",
              "      <td>4</td>\n",
              "      <td>10.558</td>\n",
              "      <td>489</td>\n",
              "      <td>6.638</td>\n",
              "      <td>1</td>\n",
              "      <td>1</td>\n",
              "      <td>5</td>\n",
              "      <td>6</td>\n",
              "      <td>E se um dia memórias vívidas de coisas que nun...</td>\n",
              "      <td>Ficção / Ficção científica / Literatura Estran...</td>\n",
              "      <td>19</td>\n",
              "      <td>81</td>\n",
              "    </tr>\n",
              "    <tr>\n",
              "      <th>5</th>\n",
              "      <td>M, o Filho do Século</td>\n",
              "      <td>Antonio Scurati</td>\n",
              "      <td>9788551006078</td>\n",
              "      <td>855100607</td>\n",
              "      <td>2020</td>\n",
              "      <td>816</td>\n",
              "      <td>português</td>\n",
              "      <td>Intrínseca</td>\n",
              "      <td>4.6</td>\n",
              "      <td>14</td>\n",
              "      <td>6</td>\n",
              "      <td>1</td>\n",
              "      <td>1.062</td>\n",
              "      <td>56</td>\n",
              "      <td>102</td>\n",
              "      <td>13</td>\n",
              "      <td>206</td>\n",
              "      <td>1</td>\n",
              "      <td>84</td>\n",
              "      <td>O romance M, o Filho do Século conta em trama ...</td>\n",
              "      <td>Biografia, Autobiografia, Memórias / História ...</td>\n",
              "      <td>36</td>\n",
              "      <td>64</td>\n",
              "    </tr>\n",
              "    <tr>\n",
              "      <th>6</th>\n",
              "      <td>Oblivion Song: Entre Dois Mundos</td>\n",
              "      <td>Robert Kirkman</td>\n",
              "      <td>9788551006252</td>\n",
              "      <td>8551006258</td>\n",
              "      <td>2020</td>\n",
              "      <td>136</td>\n",
              "      <td>português</td>\n",
              "      <td>Intrínseca</td>\n",
              "      <td>4.1</td>\n",
              "      <td>24</td>\n",
              "      <td>0</td>\n",
              "      <td>0</td>\n",
              "      <td>413</td>\n",
              "      <td>5</td>\n",
              "      <td>276</td>\n",
              "      <td>10</td>\n",
              "      <td>64</td>\n",
              "      <td>2</td>\n",
              "      <td>237</td>\n",
              "      <td>Mestre em traçar universos distópicos permeado...</td>\n",
              "      <td>Ficção / HQ, comics, mangá / Literatura Estran...</td>\n",
              "      <td>45</td>\n",
              "      <td>55</td>\n",
              "    </tr>\n",
              "    <tr>\n",
              "      <th>7</th>\n",
              "      <td>Não se humilha, não</td>\n",
              "      <td>Isabela Freitas</td>\n",
              "      <td>9788551006092</td>\n",
              "      <td>8551006096</td>\n",
              "      <td>2020</td>\n",
              "      <td>320</td>\n",
              "      <td>português</td>\n",
              "      <td>Intrínseca</td>\n",
              "      <td>4.3</td>\n",
              "      <td>302</td>\n",
              "      <td>42</td>\n",
              "      <td>6</td>\n",
              "      <td>4.376</td>\n",
              "      <td>210</td>\n",
              "      <td>2.245</td>\n",
              "      <td>171</td>\n",
              "      <td>438</td>\n",
              "      <td>3</td>\n",
              "      <td>1</td>\n",
              "      <td>Muito antes de decidir desapegar, Isabela pass...</td>\n",
              "      <td>Autoajuda / Literatura Brasileira / Não-ficção</td>\n",
              "      <td>2</td>\n",
              "      <td>98</td>\n",
              "    </tr>\n",
              "    <tr>\n",
              "      <th>8</th>\n",
              "      <td>Os segredos que guardamos</td>\n",
              "      <td>Lara Prescott</td>\n",
              "      <td>9788551005675</td>\n",
              "      <td>8551005677</td>\n",
              "      <td>2020</td>\n",
              "      <td>368</td>\n",
              "      <td>português</td>\n",
              "      <td>Intrínseca</td>\n",
              "      <td>4.1</td>\n",
              "      <td>226</td>\n",
              "      <td>20</td>\n",
              "      <td>1</td>\n",
              "      <td>2.815</td>\n",
              "      <td>88</td>\n",
              "      <td>1.160</td>\n",
              "      <td>100</td>\n",
              "      <td>345</td>\n",
              "      <td>9</td>\n",
              "      <td>1</td>\n",
              "      <td>Inspirado em uma missão real da CIA durante a ...</td>\n",
              "      <td>História Geral / Literatura Estrangeira / Não-...</td>\n",
              "      <td>9</td>\n",
              "      <td>91</td>\n",
              "    </tr>\n",
              "    <tr>\n",
              "      <th>9</th>\n",
              "      <td>Baby Shark!</td>\n",
              "      <td>Stevie Lewis</td>\n",
              "      <td>9788551005842</td>\n",
              "      <td>8551005847</td>\n",
              "      <td>2020</td>\n",
              "      <td>32</td>\n",
              "      <td>português</td>\n",
              "      <td>Intrínseca</td>\n",
              "      <td>4.2</td>\n",
              "      <td>2</td>\n",
              "      <td>0</td>\n",
              "      <td>0</td>\n",
              "      <td>159</td>\n",
              "      <td>1</td>\n",
              "      <td>8</td>\n",
              "      <td>1</td>\n",
              "      <td>7</td>\n",
              "      <td>2</td>\n",
              "      <td>6</td>\n",
              "      <td>Com 4 bilhões de visualizações no YouTube e ve...</td>\n",
              "      <td>Ficção / Infantil / Literatura Estrangeira</td>\n",
              "      <td>23</td>\n",
              "      <td>77</td>\n",
              "    </tr>\n",
              "  </tbody>\n",
              "</table>\n",
              "</div>"
            ],
            "text/plain": [
              "                             titulo                 autores  ... male female\n",
              "0              Orçamento sem falhas           Nath Finanças  ...   15     85\n",
              "1           A Segunda Vida de Missy             Beth Morrey  ...    7     93\n",
              "2                 As Sombras do Mal      Guillermo del Toro  ...   29     71\n",
              "3             Minha Sombria Vanessa  Kate Elizabeth Russell  ...    7     93\n",
              "4                          Recursão            Blake Crouch  ...   19     81\n",
              "5              M, o Filho do Século         Antonio Scurati  ...   36     64\n",
              "6  Oblivion Song: Entre Dois Mundos          Robert Kirkman  ...   45     55\n",
              "7               Não se humilha, não         Isabela Freitas  ...    2     98\n",
              "8         Os segredos que guardamos           Lara Prescott  ...    9     91\n",
              "9                       Baby Shark!            Stevie Lewis  ...   23     77\n",
              "\n",
              "[10 rows x 23 columns]"
            ]
          },
          "metadata": {},
          "execution_count": 166
        }
      ]
    }
  ]
}