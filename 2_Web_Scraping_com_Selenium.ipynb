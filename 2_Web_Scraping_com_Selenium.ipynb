{
  "nbformat": 4,
  "nbformat_minor": 0,
  "metadata": {
    "colab": {
      "name": "2-Web Scraping com Selenium.ipynb",
      "provenance": [],
      "collapsed_sections": [],
      "authorship_tag": "ABX9TyNxl2QXM9CSFqP8JPrEe2lU",
      "include_colab_link": true
    },
    "kernelspec": {
      "name": "python3",
      "display_name": "Python 3"
    },
    "language_info": {
      "name": "python"
    }
  },
  "cells": [
    {
      "cell_type": "markdown",
      "metadata": {
        "id": "view-in-github",
        "colab_type": "text"
      },
      "source": [
        "<a href=\"https://colab.research.google.com/github/lauraemmanuella/DataScience/blob/main/2_Web_Scraping_com_Selenium.ipynb\" target=\"_parent\"><img src=\"https://colab.research.google.com/assets/colab-badge.svg\" alt=\"Open In Colab\"/></a>"
      ]
    },
    {
      "cell_type": "markdown",
      "metadata": {
        "id": "QZNEFPuQiWCq"
      },
      "source": [
        "## Selenium\n",
        "\n",
        "> **O Selenium (http://www.seleniumhq.org/) é uma ferramenta eficaz para web scraping, desenvolvida originalmente para teste de sites**. Atualmente, é usado também quando se precisa de uma imagem exata dos sites – conforme são apresentados em um navegador. O Selenium funciona fazendo os navegadores carregarem o site de modo automático, obtendo os dados necessários e até mesmo capturando imagens de tela ou verificando se determinadas ações ocorrem no site.\n",
        "\n",
        "Mitchell, Ryan. Web Scraping com Python (p. 206). Novatec Editora. Edição do Kindle. \n",
        "\n",
        "https://www.letscode.com.br/blog/aprenda-a-utilizar-o-selenium-para-web-scraping\n",
        "\n",
        "\n",
        "> \"**O Selenium é um webdriver, ou seja, uma ferramenta  que permite simular um usuário real utilizando um navegador**. Desde a sua criação, ele é usado como uma ferramenta de testes automatizados. Ou seja, **pode-se acionar uma ferramenta para rodar, capaz de simular a entrada de um usuário no site e verificar o seu funcionamento corretamente**. No entanto, hoje, ele se tornou uma ferramenta geral de manipulação de sites e também é utilizado para web scraping\"\n",
        "\n",
        "## Porque usar o Selenium para web scraping\n",
        "\n",
        ">\"Por exemplo, se utilizarmos a biblioteca requests do Python para obter o código de 2 sites, a definição de Python na Wikipedia e o site do framework de javascript React, o resultado será diferente. **O primeiro retorna o site já montado, exatamente como vemos ao abrir o site pelo navegador. Já no segundo caso, temos um site que é gerado dinamicamente e que, portanto, ainda não contém os dados que queremos obter no meio do HTML**. Logo, esse é um dos motivos para utilizar o Selenium, **pois precisamos aguardar que todo esse processamento seja feito pelo navegador, para depois buscarmos os dados na página**\"\n",
        "\n",
        "\n",
        "**Documentação**\n",
        "\n",
        "https://selenium-python.readthedocs.io/locating-elements.html\n",
        "\n",
        "https://selenium-python.readthedocs.io/api.html"
      ]
    },
    {
      "cell_type": "code",
      "metadata": {
        "id": "rsn8uiOiiQZm"
      },
      "source": [
        "import requests as rq\n",
        "\n",
        "resposta_python = rq.get(\"https://pt.wikipedia.org/wiki/Python\")\n",
        "texto_python = resposta_python.text"
      ],
      "execution_count": null,
      "outputs": []
    },
    {
      "cell_type": "code",
      "metadata": {
        "id": "lsKiXgAErJuF"
      },
      "source": [
        "print(texto_python)"
      ],
      "execution_count": null,
      "outputs": []
    },
    {
      "cell_type": "code",
      "metadata": {
        "id": "J-qFJukSrCGC"
      },
      "source": [
        "resposta_react = rq.get(\"https://pt-br.reactjs.org\")\n",
        "texto_react = resposta_react.text"
      ],
      "execution_count": null,
      "outputs": []
    },
    {
      "cell_type": "code",
      "metadata": {
        "id": "cQbi8WGsrO_N"
      },
      "source": [
        "print(texto_react)"
      ],
      "execution_count": null,
      "outputs": []
    },
    {
      "cell_type": "markdown",
      "metadata": {
        "id": "uV7gSX2K66wt"
      },
      "source": [
        "> \"O Selenium disponibiliza uma maneira simplificada de se interagir com browsers como o Google Chrome, Mozilla Firefox e Internet Explorer, fazendo com que ao explorar o conteúdo das páginas você tenha uma experiência bem próxima da qual um usuário teria\"\n",
        "\n",
        "> Quando o usa, você pode especificar qual Webdriver você vai utilizar. Aqui vamos utilizar o ChromeDriver, uma ferramenta de código aberto que possibilita a comunicação do selenium com o Google Chrome\n",
        "\n",
        "https://medium.com/nexoos/usando-selenium-chrome-driver-e-capybara-para-automatizar-relat%C3%B3rios-web-459f949c75e5\n"
      ]
    },
    {
      "cell_type": "markdown",
      "metadata": {
        "id": "Z4YEUhS86A2Y"
      },
      "source": [
        "## Instalações"
      ]
    },
    {
      "cell_type": "code",
      "metadata": {
        "id": "dSmUHGWFsFUU"
      },
      "source": [
        "!pip install -U selenium\n",
        "!apt-get update #atualiza a lista das versões dos pacotes disponíveis\n",
        "!apt install chromium-chromedriver"
      ],
      "execution_count": null,
      "outputs": []
    },
    {
      "cell_type": "markdown",
      "metadata": {
        "id": "AgjW6onfJv6G"
      },
      "source": [
        "### Importa e instancia webdriver Chrome "
      ]
    },
    {
      "cell_type": "code",
      "metadata": {
        "id": "SlsdYVQXvkIC"
      },
      "source": [
        "from selenium import webdriver\n",
        "\n",
        "options = webdriver.ChromeOptions()\n",
        "options.add_argument('--headless') # não renderiza parte gráfica\n",
        "options.add_argument('--no-sandbox') #obrigatório, caso contrário gera erro, pois está abrindo como root e exige --no-sandbox\n",
        "\n",
        "#Veja mais opções aqui:\n",
        "#https://peter.sh/experiments/chromium-command-line-switches/\n",
        "\n",
        "driver = webdriver.Chrome(options = options)"
      ],
      "execution_count": null,
      "outputs": []
    },
    {
      "cell_type": "markdown",
      "metadata": {
        "id": "T-Gl4OGNBKYR"
      },
      "source": [
        "## Exemplo 1\n",
        "\n",
        "https://www.youtube.com/watch?v=eHZ_d0bINkM"
      ]
    },
    {
      "cell_type": "code",
      "metadata": {
        "id": "7U-W_vrcwiPM"
      },
      "source": [
        "url = 'https://covid.saude.gov.br/'\n",
        "driver.get(url)"
      ],
      "execution_count": null,
      "outputs": []
    },
    {
      "cell_type": "code",
      "metadata": {
        "colab": {
          "base_uri": "https://localhost:8080/"
        },
        "id": "qqYKIe-8xJZv",
        "outputId": "ff15d679-a007-4d56-cc4f-397862ad7fc2"
      },
      "source": [
        "print(driver.current_url)"
      ],
      "execution_count": null,
      "outputs": [
        {
          "output_type": "stream",
          "name": "stdout",
          "text": [
            "https://covid.saude.gov.br/\n"
          ]
        }
      ]
    },
    {
      "cell_type": "code",
      "metadata": {
        "id": "xGCIdrTMycyT"
      },
      "source": [
        "csv_button = driver.find_element_by_xpath('/html/body/app-root/ion-app/ion-router-outlet/app-home/ion-content/div[1]/div[2]/ion-button')"
      ],
      "execution_count": null,
      "outputs": []
    },
    {
      "cell_type": "code",
      "metadata": {
        "id": "uBuBN3I21aQj"
      },
      "source": [
        "csv_button.click()"
      ],
      "execution_count": null,
      "outputs": []
    },
    {
      "cell_type": "markdown",
      "metadata": {
        "id": "7EagsmKTAUPL"
      },
      "source": [
        "Comandos selenium de busca (retornam WebElements ou Exceção noSuchElementException):\n",
        "\n",
        "URL: https://selenium-python.readthedocs.io/locating-elements.html#locating-elements\n",
        "\n",
        "* find_element_by_class_name(className)\n",
        "* find_element_by_id\n",
        "* find_element_by_css_selector\n",
        "* find_element_by_link_text (por texto de href)\n",
        "* find_element_by_partial_link_text (por pedaço de texto de href)\n",
        "* find_element_by_tag_name\n",
        "* find_element_by_xpath\n",
        "    \n",
        "Estes comandos retornam a primeira ocorrência. Para encontrar todas, as funções acima possuem a versão que retorna lista trocando _element por _elements\n",
        "\n",
        "* find_elements_by_id etc."
      ]
    },
    {
      "cell_type": "markdown",
      "metadata": {
        "id": "CTVO_7uPBGJZ"
      },
      "source": [
        "## Exemplo 2"
      ]
    },
    {
      "cell_type": "code",
      "metadata": {
        "colab": {
          "base_uri": "https://localhost:8080/"
        },
        "id": "ghRFg3MjAoSj",
        "outputId": "6b7acd42-4d51-460f-d827-ef7cab781907"
      },
      "source": [
        "driver.get('https://www.infomoney.com.br/')\n",
        "\n",
        "driver.implicitly_wait(3) # espera alguns segundos para a página carregar\n",
        "\n",
        "dados1 = driver.find_element_by_id('high').text\n",
        "dados2 = driver.find_elements_by_id('high')[0].text\n",
        "\n",
        "print(dados1)\n",
        "print(\"-----\")\n",
        "print(dados2)"
      ],
      "execution_count": null,
      "outputs": [
        {
          "output_type": "stream",
          "name": "stdout",
          "text": [
            "CSNA3 +7.97% R$ 21,39\n",
            "VIVT3 +6.81% R$ 53,00\n",
            "TIMS3 +5.14% R$ 13,48\n",
            "BIDI11 +4.77% R$ 40,81\n",
            "CYRE3 +4.06% R$ 15,12\n",
            "-----\n",
            "CSNA3 +7.97% R$ 21,39\n",
            "VIVT3 +6.81% R$ 53,00\n",
            "TIMS3 +5.14% R$ 13,48\n",
            "BIDI11 +4.77% R$ 40,81\n",
            "CYRE3 +4.06% R$ 15,12\n"
          ]
        },
        {
          "output_type": "stream",
          "name": "stderr",
          "text": [
            "/usr/local/lib/python3.7/dist-packages/ipykernel_launcher.py:5: DeprecationWarning: find_element_by_* commands are deprecated. Please use find_element() instead\n",
            "  \"\"\"\n",
            "/usr/local/lib/python3.7/dist-packages/ipykernel_launcher.py:6: DeprecationWarning: find_elements_by_* commands are deprecated. Please use find_elements() instead\n",
            "  \n"
          ]
        }
      ]
    },
    {
      "cell_type": "markdown",
      "metadata": {
        "id": "eNr_QJ31LVBj"
      },
      "source": [
        "## Exemplo 3\n",
        "\n",
        "https://medium.com/data-hackers/web-scraping-com-python-para-pregui%C3%A7osos-unindo-beautifulsoup-e-selenium-parte-2-8cfebf4f34e"
      ]
    },
    {
      "cell_type": "code",
      "metadata": {
        "id": "IlTJJydcLEvA"
      },
      "source": [
        "import requests as rq\n",
        "from bs4 import BeautifulSoup"
      ],
      "execution_count": null,
      "outputs": []
    },
    {
      "cell_type": "code",
      "metadata": {
        "id": "3INaP-IYLSA7"
      },
      "source": [
        "url = 'https://www.telelistas.net/rn/natal'\n",
        "\n",
        "response = rq.get(url) \n",
        "bs = BeautifulSoup(response.text,'html.parser') #Cria objeto BeautifulSoup com analisador de HTML (parser)"
      ],
      "execution_count": null,
      "outputs": []
    },
    {
      "cell_type": "code",
      "metadata": {
        "colab": {
          "base_uri": "https://localhost:8080/"
        },
        "id": "5WsPZFwfQZKi",
        "outputId": "8f670c88-3424-4e3f-d526-619c4803558b"
      },
      "source": [
        "links = bs.find_all('a', href=True)[1:] #pega do segundo em diante, pq o primeiro é a logo\n",
        "print(len(links))\n",
        "print(links[0].get_text())\n",
        "print(links[0]['href']) #pega o href"
      ],
      "execution_count": null,
      "outputs": [
        {
          "output_type": "stream",
          "name": "stdout",
          "text": [
            "195\n",
            "Academias Desportivas\n",
            "/rn/natal/academias+desportivas\n"
          ]
        }
      ]
    },
    {
      "cell_type": "code",
      "metadata": {
        "colab": {
          "base_uri": "https://localhost:8080/"
        },
        "id": "m5ZMDHnEJdmL",
        "outputId": "92673ad0-46c6-401d-f58f-31aa70895e44"
      },
      "source": [
        "setores=[]\n",
        "contagem = []\n",
        "i = 0\n",
        "for a in bs.find_all('a', href=True)[1:]:\n",
        "  setores.append(a.text)\n",
        "  print(a.text)\n",
        "  print('https://www.telelistas.net'+a['href'])\n",
        "  driver.get('https://www.telelistas.net'+a['href'])\n",
        "  driver.implicitly_wait(5) \n",
        "  con = driver.find_element_by_xpath(\"//div[contains(text(),'Pág')]\") #https://www.codegrepper.com/code-examples/whatever/xpath+contains%28text%29\n",
        "\n",
        "  contagem.append(con.text)  \n",
        "  print(con.text)\n",
        "  print(\"##\")\n",
        "  i+=1\n",
        "  if i == 10:\n",
        "    break\n",
        "        \n"
      ],
      "execution_count": null,
      "outputs": [
        {
          "output_type": "stream",
          "name": "stdout",
          "text": [
            "Academias Desportivas\n",
            "https://www.telelistas.net/rn/natal/academias+desportivas\n"
          ]
        },
        {
          "output_type": "stream",
          "name": "stderr",
          "text": [
            "/usr/local/lib/python3.7/dist-packages/ipykernel_launcher.py:10: DeprecationWarning: find_element_by_* commands are deprecated. Please use find_element() instead\n",
            "  # Remove the CWD from sys.path while we load stuff.\n"
          ]
        },
        {
          "output_type": "stream",
          "name": "stdout",
          "text": [
            "Página 1 de 5\n",
            "##\n",
            "Acessórios para Automóveis\n",
            "https://www.telelistas.net/rn/natal/acessorios+para+automoveis\n",
            "Página 1 de 7\n",
            "##\n",
            "Advogado\n",
            "https://www.telelistas.net/rn/natal/advogado\n",
            "Página 1 de 21\n",
            "##\n",
            "Agências de Turismo\n",
            "https://www.telelistas.net/rn/natal/agencias+de+turismo\n",
            "Página 1 de 10\n",
            "##\n",
            "Alarmes\n",
            "https://www.telelistas.net/rn/natal/alarmes\n",
            "Página 1 de 2\n",
            "##\n",
            "Aluguel de Automóveis\n",
            "https://www.telelistas.net/rn/natal/aluguel+de+automoveis\n",
            "Página 1 de 8\n",
            "##\n",
            "Aluguel de Brinquedos\n",
            "https://www.telelistas.net/rn/natal/aluguel+de+brinquedos\n",
            "Página 1 de 1\n",
            "##\n",
            "Aluguel de Casas de Festas\n",
            "https://www.telelistas.net/rn/natal/aluguel+de+casas+de+festas\n",
            "Página 1 de 1\n",
            "##\n",
            "Aluguel de Equipamento de Som e Iluminação\n",
            "https://www.telelistas.net/rn/natal/aluguel+de+equipamento+de+som+e+iluminacao\n",
            "Página 1 de 2\n",
            "##\n",
            "Aluguel de Ônibus\n",
            "https://www.telelistas.net/rn/natal/aluguel+de+onibus\n",
            "Página 1 de 2\n",
            "##\n"
          ]
        }
      ]
    },
    {
      "cell_type": "code",
      "metadata": {
        "colab": {
          "base_uri": "https://localhost:8080/"
        },
        "id": "jGZLsTYTTxco",
        "outputId": "50b4cb74-304d-4063-a8b8-4881bfbe25ef"
      },
      "source": [
        "setores"
      ],
      "execution_count": null,
      "outputs": [
        {
          "output_type": "execute_result",
          "data": {
            "text/plain": [
              "['Academias Desportivas',\n",
              " 'Acessórios para Automóveis',\n",
              " 'Advogado',\n",
              " 'Agências de Turismo',\n",
              " 'Alarmes',\n",
              " 'Aluguel de Automóveis',\n",
              " 'Aluguel de Brinquedos',\n",
              " 'Aluguel de Casas de Festas',\n",
              " 'Aluguel de Equipamento de Som e Iluminação',\n",
              " 'Aluguel de Ônibus']"
            ]
          },
          "metadata": {},
          "execution_count": 75
        }
      ]
    },
    {
      "cell_type": "code",
      "metadata": {
        "colab": {
          "base_uri": "https://localhost:8080/"
        },
        "id": "cO1Wp1HITzh9",
        "outputId": "4c465783-926b-4042-f5c5-0a4ea4b60f05"
      },
      "source": [
        "contagem"
      ],
      "execution_count": null,
      "outputs": [
        {
          "output_type": "execute_result",
          "data": {
            "text/plain": [
              "['Página 1 de 5',\n",
              " 'Página 1 de 7',\n",
              " 'Página 1 de 21',\n",
              " 'Página 1 de 10',\n",
              " 'Página 1 de 2',\n",
              " 'Página 1 de 8',\n",
              " 'Página 1 de 1',\n",
              " 'Página 1 de 1',\n",
              " 'Página 1 de 2',\n",
              " 'Página 1 de 2']"
            ]
          },
          "metadata": {},
          "execution_count": 76
        }
      ]
    },
    {
      "cell_type": "code",
      "metadata": {
        "colab": {
          "base_uri": "https://localhost:8080/"
        },
        "id": "NLKdGFYTNDPz",
        "outputId": "e9d7faba-aa27-4eee-8afa-65635375211b"
      },
      "source": [
        "for count, i in enumerate(contagem):\n",
        "  if len(i)>1:\n",
        "    contagem[count] = i.split('de ')[1]\n",
        "print(len(contagem))"
      ],
      "execution_count": null,
      "outputs": [
        {
          "output_type": "stream",
          "name": "stdout",
          "text": [
            "10\n"
          ]
        }
      ]
    },
    {
      "cell_type": "code",
      "metadata": {
        "colab": {
          "base_uri": "https://localhost:8080/"
        },
        "id": "0pm-PFreUGLx",
        "outputId": "f560ded9-d1d3-45b8-f76c-b1dc143ed038"
      },
      "source": [
        "contagem"
      ],
      "execution_count": null,
      "outputs": [
        {
          "output_type": "execute_result",
          "data": {
            "text/plain": [
              "['5', '7', '21', '10', '2', '8', '1', '1', '2', '2']"
            ]
          },
          "metadata": {},
          "execution_count": 78
        }
      ]
    }
  ]
}